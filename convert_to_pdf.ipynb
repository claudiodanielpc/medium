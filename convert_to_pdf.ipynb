{
 "cells": [
  {
   "cell_type": "code",
   "execution_count": 108,
   "metadata": {},
   "outputs": [],
   "source": [
    "#Librerías\n",
    "import os\n",
    "from subprocess import  Popen\n",
    "#Ubicación de LibreOffice\n",
    "LIBRE_OFFICE = r\"/usr/bin/soffice\""
   ]
  },
  {
   "cell_type": "code",
   "execution_count": 109,
   "metadata": {},
   "outputs": [],
   "source": [
    "#Directorio de trabajo\n",
    "os.chdir('/home/alienware/Documentos/docs_prueba')"
   ]
  },
  {
   "cell_type": "code",
   "execution_count": 110,
   "metadata": {},
   "outputs": [
    {
     "data": {
      "text/plain": [
       "['docprueba.docx', 'hola.odp', 'doc1.odt', 'doc2.odt', 'Sin título 2.pptx']"
      ]
     },
     "execution_count": 110,
     "metadata": {},
     "output_type": "execute_result"
    }
   ],
   "source": [
    "#Enlistar los archivos de la carpeta\n",
    "lista_archivos = os.listdir()\n",
    "lista_archivos"
   ]
  },
  {
   "cell_type": "code",
   "execution_count": 111,
   "metadata": {},
   "outputs": [],
   "source": [
    "#Función para convertir los archivos a PDF\n",
    "def convert_to_pdf(input_docx, out_folder):\n",
    "    p = Popen([LIBRE_OFFICE, '--headless', '--convert-to', 'pdf', '--outdir',\n",
    "               out_folder, input_docx])\n",
    "    print([LIBRE_OFFICE, '--convert-to', 'pdf', input_docx])\n",
    "    p.communicate()"
   ]
  },
  {
   "cell_type": "code",
   "execution_count": 112,
   "metadata": {},
   "outputs": [],
   "source": [
    "#Formatos de documentos que se convertirán a PDF\n",
    "formatos=['docx','odt','odp','pptx']"
   ]
  },
  {
   "cell_type": "code",
   "execution_count": 113,
   "metadata": {},
   "outputs": [
    {
     "name": "stdout",
     "output_type": "stream",
     "text": [
      "['/usr/bin/soffice', '--convert-to', 'pdf', 'docprueba.docx']\n"
     ]
    },
    {
     "name": "stderr",
     "output_type": "stream",
     "text": [
      "Warning: failed to launch javaldx - java may not function correctly\n"
     ]
    },
    {
     "name": "stdout",
     "output_type": "stream",
     "text": [
      "convert /home/alienware/Documentos/docs_prueba/docprueba.docx -> /home/alienware/Documentos/docs_prueba/pdf/docprueba.pdf using filter : writer_pdf_Export\n",
      "Convirtiendo docprueba.docx a pdf\n",
      "['/usr/bin/soffice', '--convert-to', 'pdf', 'hola.odp']\n"
     ]
    },
    {
     "name": "stderr",
     "output_type": "stream",
     "text": [
      "Warning: failed to launch javaldx - java may not function correctly\n"
     ]
    },
    {
     "name": "stdout",
     "output_type": "stream",
     "text": [
      "convert /home/alienware/Documentos/docs_prueba/hola.odp -> /home/alienware/Documentos/docs_prueba/pdf/hola.pdf using filter : impress_pdf_Export\n",
      "Convirtiendo hola.odp a pdf\n",
      "['/usr/bin/soffice', '--convert-to', 'pdf', 'doc1.odt']\n"
     ]
    },
    {
     "name": "stderr",
     "output_type": "stream",
     "text": [
      "Warning: failed to launch javaldx - java may not function correctly\n"
     ]
    },
    {
     "name": "stdout",
     "output_type": "stream",
     "text": [
      "convert /home/alienware/Documentos/docs_prueba/doc1.odt -> /home/alienware/Documentos/docs_prueba/pdf/doc1.pdf using filter : writer_pdf_Export\n",
      "Convirtiendo doc1.odt a pdf\n",
      "['/usr/bin/soffice', '--convert-to', 'pdf', 'doc2.odt']\n"
     ]
    },
    {
     "name": "stderr",
     "output_type": "stream",
     "text": [
      "Warning: failed to launch javaldx - java may not function correctly\n"
     ]
    },
    {
     "name": "stdout",
     "output_type": "stream",
     "text": [
      "convert /home/alienware/Documentos/docs_prueba/doc2.odt -> /home/alienware/Documentos/docs_prueba/pdf/doc2.pdf using filter : writer_pdf_Export\n",
      "Convirtiendo doc2.odt a pdf\n",
      "['/usr/bin/soffice', '--convert-to', 'pdf', 'Sin título 2.pptx']\n"
     ]
    },
    {
     "name": "stderr",
     "output_type": "stream",
     "text": [
      "Warning: failed to launch javaldx - java may not function correctly\n"
     ]
    },
    {
     "name": "stdout",
     "output_type": "stream",
     "text": [
      "convert /home/alienware/Documentos/docs_prueba/Sin título 2.pptx -> /home/alienware/Documentos/docs_prueba/pdf/Sin título 2.pdf using filter : impress_pdf_Export\n",
      "Convirtiendo Sin título 2.pptx a pdf\n"
     ]
    }
   ],
   "source": [
    "#Loop para convertir los archivos a PDF\n",
    "for archivo in lista_archivos:\n",
    "    if archivo.split('.')[-1] in formatos:\n",
    "        convert_to_pdf(archivo, 'pdf')\n",
    "        print('Convirtiendo {} a pdf'.format(archivo))\n",
    "    else:\n",
    "        print('El archivo {} no se puede convertir'.format(archivo))\n",
    "        pass"
   ]
  }
 ],
 "metadata": {
  "kernelspec": {
   "display_name": "Python 3.9.12 ('base')",
   "language": "python",
   "name": "python3"
  },
  "language_info": {
   "codemirror_mode": {
    "name": "ipython",
    "version": 3
   },
   "file_extension": ".py",
   "mimetype": "text/x-python",
   "name": "python",
   "nbconvert_exporter": "python",
   "pygments_lexer": "ipython3",
   "version": "3.9.12"
  },
  "orig_nbformat": 4,
  "vscode": {
   "interpreter": {
    "hash": "608fb23f7a290a19d88aa946f847c44e9d757728a932f3d69e2cec32585684c1"
   }
  }
 },
 "nbformat": 4,
 "nbformat_minor": 2
}
