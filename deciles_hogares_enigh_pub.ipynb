{
 "cells": [
  {
   "cell_type": "code",
   "execution_count": 2,
   "id": "0e021909",
   "metadata": {
    "vscode": {
     "languageId": "r"
    }
   },
   "outputs": [
    {
     "name": "stderr",
     "output_type": "stream",
     "text": [
      "Cargando paquete requerido: pacman\n",
      "\n"
     ]
    }
   ],
   "source": [
    "##Estimación de ingreso promedio trimestral por decil de hogares\n",
    "#Se borra todo lo que se encuentra en el entorno\n",
    "\n",
    "#rm(list=ls())\n",
    "# Librerías ====\n",
    "if(!require('pacman')) install.packages('pacman')\n",
    "pacman::p_load(tidyverse,srvyr,showtext,gt)\n",
    "font_add_google(\"Poppins\", \"pop\")\n",
    "showtext_auto()"
   ]
  },
  {
   "cell_type": "code",
   "execution_count": 3,
   "id": "a364939a",
   "metadata": {
    "vscode": {
     "languageId": "r"
    }
   },
   "outputs": [],
   "source": [
    "#Crear directorio para guardar los archivos\n",
    "dir.create(\"data\", showWarnings = FALSE)"
   ]
  },
  {
   "cell_type": "markdown",
   "id": "0e0c7a56",
   "metadata": {},
   "source": [
    "#### Elementos básicos para contar con los datos"
   ]
  },
  {
   "cell_type": "code",
   "execution_count": 4,
   "id": "0b282c5d",
   "metadata": {
    "vscode": {
     "languageId": "r"
    }
   },
   "outputs": [],
   "source": [
    "url_basica<-\"https://www.inegi.org.mx/contenidos/programas/enigh/nc/\"\n",
    "segunda_parte<-\"microdatos/enigh\"\n",
    "fin<-\"_ns_concentradohogar_csv.zip\""
   ]
  },
  {
   "cell_type": "code",
   "execution_count": 5,
   "id": "115130b4",
   "metadata": {
    "vscode": {
     "languageId": "r"
    }
   },
   "outputs": [
    {
     "data": {
      "text/html": [
       "<style>\n",
       ".list-inline {list-style: none; margin:0; padding: 0}\n",
       ".list-inline>li {display: inline-block}\n",
       ".list-inline>li:not(:last-child)::after {content: \"\\00b7\"; padding: 0 .5ex}\n",
       "</style>\n",
       "<ol class=list-inline><li>'2016'</li><li>'2018'</li><li>'2020'</li><li>'2022'</li><li>'2024'</li></ol>\n"
      ],
      "text/latex": [
       "\\begin{enumerate*}\n",
       "\\item '2016'\n",
       "\\item '2018'\n",
       "\\item '2020'\n",
       "\\item '2022'\n",
       "\\item '2024'\n",
       "\\end{enumerate*}\n"
      ],
      "text/markdown": [
       "1. '2016'\n",
       "2. '2018'\n",
       "3. '2020'\n",
       "4. '2022'\n",
       "5. '2024'\n",
       "\n",
       "\n"
      ],
      "text/plain": [
       "[1] \"2016\" \"2018\" \"2020\" \"2022\" \"2024\""
      ]
     },
     "metadata": {},
     "output_type": "display_data"
    }
   ],
   "source": [
    "years<-c(\"2016\", \"2018\", \"2020\", \"2022\", \"2024\")\n",
    "years"
   ]
  },
  {
   "cell_type": "code",
   "execution_count": 6,
   "id": "6ce9df53",
   "metadata": {
    "vscode": {
     "languageId": "r"
    }
   },
   "outputs": [],
   "source": [
    "# Descargar los archivos, descomprimirlos y renombrarlos\n",
    "options(timeout = 300) \n",
    "for (i in 1:length(years)) {\n",
    "  url <- paste0(url_basica, years[i], \"/\", segunda_parte, years[i], fin)\n",
    "  destfile <- paste0(\"data/\", years[i], fin)\n",
    "\n",
    "  # Descargar el archivo\n",
    "  download.file(url, destfile = destfile)\n",
    "\n",
    "  # Descomprimir el archivo\n",
    "  unzip(destfile, exdir = \"data\")\n",
    "\n",
    "  # Renombrar el archivo descomprimido a \"viviendas_xxxx.csv\"\n",
    "  file.rename(\n",
    "    from = \"data/concentradohogar.csv\",\n",
    "    to = paste0(\"data/concentradohogar_\", years[i], \".csv\")\n",
    "  )\n",
    "}"
   ]
  },
  {
   "cell_type": "code",
   "execution_count": 9,
   "id": "2e0bfd23",
   "metadata": {
    "vscode": {
     "languageId": "r"
    }
   },
   "outputs": [],
   "source": [
    "url_inpc<-\"https://www.inegi.org.mx/contenidos/programas/inpc/2018a/datosabiertos/conjunto_de_datos_inpc_indicador_mensual_csv.zip\"\n",
    "\n",
    "download.file(url_inpc, destfile = \"data/inpc/inpc.zip\")\n",
    "#Descomprimir el archivo\n",
    "unzip(\"data/inpc/inpc.zip\", exdir = \"data/inpc\")"
   ]
  },
  {
   "cell_type": "code",
   "execution_count": 10,
   "id": "c208500c",
   "metadata": {
    "vscode": {
     "languageId": "r"
    }
   },
   "outputs": [
    {
     "data": {
      "text/html": [
       "<table class=\"dataframe\">\n",
       "<caption>A tibble: 9 × 3</caption>\n",
       "<thead>\n",
       "\t<tr><th scope=col>year</th><th scope=col>valor</th><th scope=col>inpcbase</th></tr>\n",
       "\t<tr><th scope=col>&lt;int&gt;</th><th scope=col>&lt;dbl&gt;</th><th scope=col>&lt;dbl&gt;</th></tr>\n",
       "</thead>\n",
       "<tbody>\n",
       "\t<tr><td>2016</td><td> 90.12792</td><td> 66.57178</td></tr>\n",
       "\t<tr><td>2017</td><td> 95.57296</td><td> 70.59368</td></tr>\n",
       "\t<tr><td>2018</td><td>100.25542</td><td> 74.05232</td></tr>\n",
       "\t<tr><td>2019</td><td>103.90067</td><td> 76.74483</td></tr>\n",
       "\t<tr><td>2020</td><td>107.43000</td><td> 79.35172</td></tr>\n",
       "\t<tr><td>2021</td><td>113.54192</td><td> 83.86621</td></tr>\n",
       "\t<tr><td>2022</td><td>122.50750</td><td> 90.48852</td></tr>\n",
       "\t<tr><td>2023</td><td>129.27967</td><td> 95.49069</td></tr>\n",
       "\t<tr><td>2024</td><td>135.38458</td><td>100.00000</td></tr>\n",
       "</tbody>\n",
       "</table>\n"
      ],
      "text/latex": [
       "A tibble: 9 × 3\n",
       "\\begin{tabular}{lll}\n",
       " year & valor & inpcbase\\\\\n",
       " <int> & <dbl> & <dbl>\\\\\n",
       "\\hline\n",
       "\t 2016 &  90.12792 &  66.57178\\\\\n",
       "\t 2017 &  95.57296 &  70.59368\\\\\n",
       "\t 2018 & 100.25542 &  74.05232\\\\\n",
       "\t 2019 & 103.90067 &  76.74483\\\\\n",
       "\t 2020 & 107.43000 &  79.35172\\\\\n",
       "\t 2021 & 113.54192 &  83.86621\\\\\n",
       "\t 2022 & 122.50750 &  90.48852\\\\\n",
       "\t 2023 & 129.27967 &  95.49069\\\\\n",
       "\t 2024 & 135.38458 & 100.00000\\\\\n",
       "\\end{tabular}\n"
      ],
      "text/markdown": [
       "\n",
       "A tibble: 9 × 3\n",
       "\n",
       "| year &lt;int&gt; | valor &lt;dbl&gt; | inpcbase &lt;dbl&gt; |\n",
       "|---|---|---|\n",
       "| 2016 |  90.12792 |  66.57178 |\n",
       "| 2017 |  95.57296 |  70.59368 |\n",
       "| 2018 | 100.25542 |  74.05232 |\n",
       "| 2019 | 103.90067 |  76.74483 |\n",
       "| 2020 | 107.43000 |  79.35172 |\n",
       "| 2021 | 113.54192 |  83.86621 |\n",
       "| 2022 | 122.50750 |  90.48852 |\n",
       "| 2023 | 129.27967 |  95.49069 |\n",
       "| 2024 | 135.38458 | 100.00000 |\n",
       "\n"
      ],
      "text/plain": [
       "  year valor     inpcbase \n",
       "1 2016  90.12792  66.57178\n",
       "2 2017  95.57296  70.59368\n",
       "3 2018 100.25542  74.05232\n",
       "4 2019 103.90067  76.74483\n",
       "5 2020 107.43000  79.35172\n",
       "6 2021 113.54192  83.86621\n",
       "7 2022 122.50750  90.48852\n",
       "8 2023 129.27967  95.49069\n",
       "9 2024 135.38458 100.00000"
      ]
     },
     "metadata": {},
     "output_type": "display_data"
    }
   ],
   "source": [
    "#Leer INPC\n",
    "inpc <- read_csv(\"data/inpc/conjunto_de_datos/conjunto_de_datos_inpc_mensual.csv\",show_col_types = FALSE) %>%\n",
    "  janitor::clean_names()%>%\n",
    "  #Extraer year y month\n",
    "  mutate(year=substr(fecha,1,4),\n",
    "         month=substr(fecha,6,7))%>%\n",
    "         filter(concepto==\"Índice nacional de precios al consumidor (mensual), Resumen, Subíndices subyacente y complementarios, Precios al Consumidor (INPC)\")%>%\n",
    "         select(year,month,valor)%>%\n",
    "         filter(year>=2016 & year<=2024)%>%\n",
    "         #Obtener el promedio anual\n",
    "group_by(year)%>%\n",
    "summarise(valor=mean(valor))%>%\n",
    "#Cambiar la base a 2024=100\n",
    "mutate(inpcbase=valor/valor[year==\"2024\"]*100)%>%\n",
    "mutate(year=as.integer(year))\n",
    "\n",
    "inpc"
   ]
  },
  {
   "cell_type": "code",
   "execution_count": 11,
   "id": "914a06bb",
   "metadata": {
    "vscode": {
     "languageId": "r"
    }
   },
   "outputs": [
    {
     "data": {
      "text/html": [
       "<style>\n",
       ".list-inline {list-style: none; margin:0; padding: 0}\n",
       ".list-inline>li {display: inline-block}\n",
       ".list-inline>li:not(:last-child)::after {content: \"\\00b7\"; padding: 0 .5ex}\n",
       "</style>\n",
       "<ol class=list-inline><li>'data/concentradohogar_2016.csv'</li><li>'data/concentradohogar_2018.csv'</li><li>'data/concentradohogar_2020.csv'</li><li>'data/concentradohogar_2022.csv'</li><li>'data/concentradohogar_2024.csv'</li></ol>\n"
      ],
      "text/latex": [
       "\\begin{enumerate*}\n",
       "\\item 'data/concentradohogar\\_2016.csv'\n",
       "\\item 'data/concentradohogar\\_2018.csv'\n",
       "\\item 'data/concentradohogar\\_2020.csv'\n",
       "\\item 'data/concentradohogar\\_2022.csv'\n",
       "\\item 'data/concentradohogar\\_2024.csv'\n",
       "\\end{enumerate*}\n"
      ],
      "text/markdown": [
       "1. 'data/concentradohogar_2016.csv'\n",
       "2. 'data/concentradohogar_2018.csv'\n",
       "3. 'data/concentradohogar_2020.csv'\n",
       "4. 'data/concentradohogar_2022.csv'\n",
       "5. 'data/concentradohogar_2024.csv'\n",
       "\n",
       "\n"
      ],
      "text/plain": [
       "[1] \"data/concentradohogar_2016.csv\" \"data/concentradohogar_2018.csv\"\n",
       "[3] \"data/concentradohogar_2020.csv\" \"data/concentradohogar_2022.csv\"\n",
       "[5] \"data/concentradohogar_2024.csv\""
      ]
     },
     "metadata": {},
     "output_type": "display_data"
    }
   ],
   "source": [
    "paths <- list.files(\"data\",\n",
    "                    pattern = \"^concentradohogar_\\\\d{4}\\\\.csv$\",\n",
    "                    full.names = TRUE)\n",
    "paths"
   ]
  },
  {
   "cell_type": "markdown",
   "id": "4b5d7ab0",
   "metadata": {},
   "source": [
    "#### Creación de función de estimación"
   ]
  },
  {
   "cell_type": "code",
   "execution_count": 12,
   "id": "74e535c8",
   "metadata": {
    "vscode": {
     "languageId": "r"
    }
   },
   "outputs": [],
   "source": [
    "estima_ingprom <- function(path, variable = \"ingreso_prom\") {\n",
    "\n",
    "  message(path)\n",
    "\n",
    "  # --- 1) Cargar datos \n",
    "  datos <- read_csv(path, show_col_types = FALSE) %>%\n",
    "    arrange(ing_cor, folioviv, foliohog) %>%\n",
    "    mutate(\n",
    "      c0 = lag(cumsum(factor), default = 0),\n",
    "      c1 = c0 + factor\n",
    "    ) %>%\n",
    "    {\n",
    "      # --- 2) Tamaño de decil \n",
    "      tam_dec <- floor(sum(.$factor, na.rm = TRUE) / 10)\n",
    "\n",
    "      # --- 3) Partir el peso por fronteras; decil 10 absorbe remanente (right = Inf)\n",
    "      rowwise(.) %>%\n",
    "        mutate(.split = list({\n",
    "          d_ini <- pmax(1L, floor(c0 / tam_dec) + 1L)\n",
    "          k <- d_ini:10L\n",
    "          left  <- (k - 1L) * tam_dec\n",
    "          right <- ifelse(k == 10L, Inf, k * tam_dec)\n",
    "\n",
    "          tibble(\n",
    "            decil_hogar = k,\n",
    "            factor_part = pmax(0, pmin(c1, right) - pmax(c0, left))\n",
    "          ) %>% filter(factor_part > 0)\n",
    "        })) %>%\n",
    "        ungroup() %>%\n",
    "        unnest(.split) %>%\n",
    "        mutate(factor = factor_part) %>%\n",
    "        select(-factor_part, -c0, -c1)\n",
    "    } \n",
    "\n",
    "  # --- 4) Diseño muestral\n",
    "  mydesign <- datos %>%\n",
    "    as_survey_design(ids = upm, strata = est_dis, weights = factor)\n",
    "\n",
    "  # --- 5) Estimación por decil\n",
    "  por_decil <- mydesign %>%\n",
    "    group_by(decil_hogar) %>%\n",
    "    summarise(\n",
    "      hogares  = survey_total(vartype = \"cv\"),\n",
    "      ing_prom = survey_mean(ing_cor, vartype = \"cv\"),\n",
    "      .groups  = \"drop\"\n",
    "    ) %>%\n",
    "    arrange(decil_hogar)\n",
    "\n",
    "  # --- 6) Estimación total\n",
    "  total_row <- mydesign %>%\n",
    "    summarise(\n",
    "      hogares  = survey_total(vartype = \"cv\"),\n",
    "      ing_prom = survey_mean(ing_cor, vartype = \"cv\")\n",
    "    ) %>%\n",
    "    mutate(decil_hogar = \"Total\")\n",
    "\n",
    "  # --- 7) Unir Total + deciles y agregar año\n",
    "  out <- bind_rows(\n",
    "    total_row,\n",
    "    por_decil %>% mutate(decil_hogar = as.character(decil_hogar))\n",
    "  ) %>%\n",
    "    mutate(\n",
    "      decil_hogar = factor(decil_hogar, levels = c(\"Total\", as.character(1:10))),\n",
    "      year = parse_number(basename(path))\n",
    "    ) %>%\n",
    "    arrange(decil_hogar)\n",
    "\n",
    "  if (variable == \"ingreso_prom\") return(out)\n",
    "  stop(\"Variable no reconocida. Use 'ingreso_prom'.\")\n",
    "}"
   ]
  },
  {
   "cell_type": "markdown",
   "id": "00bc6b55",
   "metadata": {},
   "source": [
    "#### Estimación para 2024"
   ]
  },
  {
   "cell_type": "code",
   "execution_count": 13,
   "id": "228d2498",
   "metadata": {
    "vscode": {
     "languageId": "r"
    }
   },
   "outputs": [
    {
     "name": "stderr",
     "output_type": "stream",
     "text": [
      "data/concentradohogar_2024.csv\n",
      "\n",
      "\u001b[1m\u001b[22mJoining with `by = join_by(year)`\n"
     ]
    },
    {
     "data": {
      "text/html": [
       "<table class=\"dataframe\">\n",
       "<caption>A tibble: 11 × 9</caption>\n",
       "<thead>\n",
       "\t<tr><th scope=col>hogares</th><th scope=col>hogares_cv</th><th scope=col>ing_prom</th><th scope=col>ing_prom_cv</th><th scope=col>decil_hogar</th><th scope=col>year</th><th scope=col>valor</th><th scope=col>inpcbase</th><th scope=col>ing_prom_real</th></tr>\n",
       "\t<tr><th scope=col>&lt;dbl&gt;</th><th scope=col>&lt;dbl&gt;</th><th scope=col>&lt;dbl&gt;</th><th scope=col>&lt;dbl&gt;</th><th scope=col>&lt;fct&gt;</th><th scope=col>&lt;dbl&gt;</th><th scope=col>&lt;dbl&gt;</th><th scope=col>&lt;dbl&gt;</th><th scope=col>&lt;dbl&gt;</th></tr>\n",
       "</thead>\n",
       "<tbody>\n",
       "\t<tr><td>38830230</td><td>0.003756163</td><td> 77863.84</td><td>0.0077779855</td><td>Total</td><td>2024</td><td>135.3846</td><td>100</td><td> 77863.84</td></tr>\n",
       "\t<tr><td> 3883023</td><td>0.017117239</td><td> 16795.33</td><td>0.0043999644</td><td>1    </td><td>2024</td><td>135.3846</td><td>100</td><td> 16795.33</td></tr>\n",
       "\t<tr><td> 3883023</td><td>0.015118327</td><td> 28296.82</td><td>0.0013549261</td><td>2    </td><td>2024</td><td>135.3846</td><td>100</td><td> 28296.82</td></tr>\n",
       "\t<tr><td> 3883023</td><td>0.015483896</td><td> 36844.61</td><td>0.0010042583</td><td>3    </td><td>2024</td><td>135.3846</td><td>100</td><td> 36844.61</td></tr>\n",
       "\t<tr><td> 3883023</td><td>0.015567541</td><td> 45244.52</td><td>0.0008862927</td><td>4    </td><td>2024</td><td>135.3846</td><td>100</td><td> 45244.52</td></tr>\n",
       "\t<tr><td> 3883023</td><td>0.016023380</td><td> 54307.66</td><td>0.0008154898</td><td>5    </td><td>2024</td><td>135.3846</td><td>100</td><td> 54307.66</td></tr>\n",
       "\t<tr><td> 3883023</td><td>0.016018913</td><td> 64599.75</td><td>0.0007831177</td><td>6    </td><td>2024</td><td>135.3846</td><td>100</td><td> 64599.75</td></tr>\n",
       "\t<tr><td> 3883023</td><td>0.016235631</td><td> 77450.79</td><td>0.0009039882</td><td>7    </td><td>2024</td><td>135.3846</td><td>100</td><td> 77450.79</td></tr>\n",
       "\t<tr><td> 3883023</td><td>0.015832645</td><td> 95291.21</td><td>0.0009823372</td><td>8    </td><td>2024</td><td>135.3846</td><td>100</td><td> 95291.21</td></tr>\n",
       "\t<tr><td> 3883023</td><td>0.016371836</td><td>123712.44</td><td>0.0014256814</td><td>9    </td><td>2024</td><td>135.3846</td><td>100</td><td>123712.44</td></tr>\n",
       "\t<tr><td> 3883023</td><td>0.017571924</td><td>236095.31</td><td>0.0204123369</td><td>10   </td><td>2024</td><td>135.3846</td><td>100</td><td>236095.31</td></tr>\n",
       "</tbody>\n",
       "</table>\n"
      ],
      "text/latex": [
       "A tibble: 11 × 9\n",
       "\\begin{tabular}{lllllllll}\n",
       " hogares & hogares\\_cv & ing\\_prom & ing\\_prom\\_cv & decil\\_hogar & year & valor & inpcbase & ing\\_prom\\_real\\\\\n",
       " <dbl> & <dbl> & <dbl> & <dbl> & <fct> & <dbl> & <dbl> & <dbl> & <dbl>\\\\\n",
       "\\hline\n",
       "\t 38830230 & 0.003756163 &  77863.84 & 0.0077779855 & Total & 2024 & 135.3846 & 100 &  77863.84\\\\\n",
       "\t  3883023 & 0.017117239 &  16795.33 & 0.0043999644 & 1     & 2024 & 135.3846 & 100 &  16795.33\\\\\n",
       "\t  3883023 & 0.015118327 &  28296.82 & 0.0013549261 & 2     & 2024 & 135.3846 & 100 &  28296.82\\\\\n",
       "\t  3883023 & 0.015483896 &  36844.61 & 0.0010042583 & 3     & 2024 & 135.3846 & 100 &  36844.61\\\\\n",
       "\t  3883023 & 0.015567541 &  45244.52 & 0.0008862927 & 4     & 2024 & 135.3846 & 100 &  45244.52\\\\\n",
       "\t  3883023 & 0.016023380 &  54307.66 & 0.0008154898 & 5     & 2024 & 135.3846 & 100 &  54307.66\\\\\n",
       "\t  3883023 & 0.016018913 &  64599.75 & 0.0007831177 & 6     & 2024 & 135.3846 & 100 &  64599.75\\\\\n",
       "\t  3883023 & 0.016235631 &  77450.79 & 0.0009039882 & 7     & 2024 & 135.3846 & 100 &  77450.79\\\\\n",
       "\t  3883023 & 0.015832645 &  95291.21 & 0.0009823372 & 8     & 2024 & 135.3846 & 100 &  95291.21\\\\\n",
       "\t  3883023 & 0.016371836 & 123712.44 & 0.0014256814 & 9     & 2024 & 135.3846 & 100 & 123712.44\\\\\n",
       "\t  3883023 & 0.017571924 & 236095.31 & 0.0204123369 & 10    & 2024 & 135.3846 & 100 & 236095.31\\\\\n",
       "\\end{tabular}\n"
      ],
      "text/markdown": [
       "\n",
       "A tibble: 11 × 9\n",
       "\n",
       "| hogares &lt;dbl&gt; | hogares_cv &lt;dbl&gt; | ing_prom &lt;dbl&gt; | ing_prom_cv &lt;dbl&gt; | decil_hogar &lt;fct&gt; | year &lt;dbl&gt; | valor &lt;dbl&gt; | inpcbase &lt;dbl&gt; | ing_prom_real &lt;dbl&gt; |\n",
       "|---|---|---|---|---|---|---|---|---|\n",
       "| 38830230 | 0.003756163 |  77863.84 | 0.0077779855 | Total | 2024 | 135.3846 | 100 |  77863.84 |\n",
       "|  3883023 | 0.017117239 |  16795.33 | 0.0043999644 | 1     | 2024 | 135.3846 | 100 |  16795.33 |\n",
       "|  3883023 | 0.015118327 |  28296.82 | 0.0013549261 | 2     | 2024 | 135.3846 | 100 |  28296.82 |\n",
       "|  3883023 | 0.015483896 |  36844.61 | 0.0010042583 | 3     | 2024 | 135.3846 | 100 |  36844.61 |\n",
       "|  3883023 | 0.015567541 |  45244.52 | 0.0008862927 | 4     | 2024 | 135.3846 | 100 |  45244.52 |\n",
       "|  3883023 | 0.016023380 |  54307.66 | 0.0008154898 | 5     | 2024 | 135.3846 | 100 |  54307.66 |\n",
       "|  3883023 | 0.016018913 |  64599.75 | 0.0007831177 | 6     | 2024 | 135.3846 | 100 |  64599.75 |\n",
       "|  3883023 | 0.016235631 |  77450.79 | 0.0009039882 | 7     | 2024 | 135.3846 | 100 |  77450.79 |\n",
       "|  3883023 | 0.015832645 |  95291.21 | 0.0009823372 | 8     | 2024 | 135.3846 | 100 |  95291.21 |\n",
       "|  3883023 | 0.016371836 | 123712.44 | 0.0014256814 | 9     | 2024 | 135.3846 | 100 | 123712.44 |\n",
       "|  3883023 | 0.017571924 | 236095.31 | 0.0204123369 | 10    | 2024 | 135.3846 | 100 | 236095.31 |\n",
       "\n"
      ],
      "text/plain": [
       "   hogares  hogares_cv  ing_prom  ing_prom_cv  decil_hogar year valor   \n",
       "1  38830230 0.003756163  77863.84 0.0077779855 Total       2024 135.3846\n",
       "2   3883023 0.017117239  16795.33 0.0043999644 1           2024 135.3846\n",
       "3   3883023 0.015118327  28296.82 0.0013549261 2           2024 135.3846\n",
       "4   3883023 0.015483896  36844.61 0.0010042583 3           2024 135.3846\n",
       "5   3883023 0.015567541  45244.52 0.0008862927 4           2024 135.3846\n",
       "6   3883023 0.016023380  54307.66 0.0008154898 5           2024 135.3846\n",
       "7   3883023 0.016018913  64599.75 0.0007831177 6           2024 135.3846\n",
       "8   3883023 0.016235631  77450.79 0.0009039882 7           2024 135.3846\n",
       "9   3883023 0.015832645  95291.21 0.0009823372 8           2024 135.3846\n",
       "10  3883023 0.016371836 123712.44 0.0014256814 9           2024 135.3846\n",
       "11  3883023 0.017571924 236095.31 0.0204123369 10          2024 135.3846\n",
       "   inpcbase ing_prom_real\n",
       "1  100       77863.84    \n",
       "2  100       16795.33    \n",
       "3  100       28296.82    \n",
       "4  100       36844.61    \n",
       "5  100       45244.52    \n",
       "6  100       54307.66    \n",
       "7  100       64599.75    \n",
       "8  100       77450.79    \n",
       "9  100       95291.21    \n",
       "10 100      123712.44    \n",
       "11 100      236095.31    "
      ]
     },
     "metadata": {},
     "output_type": "display_data"
    }
   ],
   "source": [
    "estima_ingprom(\"data/concentradohogar_2024.csv\", \"ingreso_prom\")%>%\n",
    "    left_join(inpc)%>%\n",
    "    mutate(ing_prom_real=ing_prom/inpcbase*100)"
   ]
  },
  {
   "cell_type": "markdown",
   "id": "c2276d37",
   "metadata": {},
   "source": [
    "#### Prueba para 2020"
   ]
  },
  {
   "cell_type": "code",
   "execution_count": 14,
   "id": "d47a4cee",
   "metadata": {
    "vscode": {
     "languageId": "r"
    }
   },
   "outputs": [
    {
     "name": "stderr",
     "output_type": "stream",
     "text": [
      "data/concentradohogar_2020.csv\n",
      "\n",
      "\u001b[1m\u001b[22mJoining with `by = join_by(year)`\n"
     ]
    },
    {
     "data": {
      "text/html": [
       "<table class=\"dataframe\">\n",
       "<caption>A tibble: 11 × 9</caption>\n",
       "<thead>\n",
       "\t<tr><th scope=col>hogares</th><th scope=col>hogares_cv</th><th scope=col>ing_prom</th><th scope=col>ing_prom_cv</th><th scope=col>decil_hogar</th><th scope=col>year</th><th scope=col>valor</th><th scope=col>inpcbase</th><th scope=col>ing_prom_real</th></tr>\n",
       "\t<tr><th scope=col>&lt;dbl&gt;</th><th scope=col>&lt;dbl&gt;</th><th scope=col>&lt;dbl&gt;</th><th scope=col>&lt;dbl&gt;</th><th scope=col>&lt;fct&gt;</th><th scope=col>&lt;dbl&gt;</th><th scope=col>&lt;dbl&gt;</th><th scope=col>&lt;dbl&gt;</th><th scope=col>&lt;dbl&gt;</th></tr>\n",
       "</thead>\n",
       "<tbody>\n",
       "\t<tr><td>35749659</td><td>0.003329212</td><td> 50309.313</td><td>0.0079605765</td><td>Total</td><td>2020</td><td>107.43</td><td>79.35172</td><td> 63400.40</td></tr>\n",
       "\t<tr><td> 3574965</td><td>0.017625361</td><td>  9937.778</td><td>0.0042294723</td><td>1    </td><td>2020</td><td>107.43</td><td>79.35172</td><td> 12523.71</td></tr>\n",
       "\t<tr><td> 3574965</td><td>0.014001495</td><td> 16862.471</td><td>0.0013949381</td><td>2    </td><td>2020</td><td>107.43</td><td>79.35172</td><td> 21250.29</td></tr>\n",
       "\t<tr><td> 3574965</td><td>0.014889921</td><td> 22273.714</td><td>0.0009942438</td><td>3    </td><td>2020</td><td>107.43</td><td>79.35172</td><td> 28069.60</td></tr>\n",
       "\t<tr><td> 3574965</td><td>0.014902130</td><td> 27558.387</td><td>0.0008309191</td><td>4    </td><td>2020</td><td>107.43</td><td>79.35172</td><td> 34729.41</td></tr>\n",
       "\t<tr><td> 3574965</td><td>0.015454630</td><td> 33366.628</td><td>0.0008485271</td><td>5    </td><td>2020</td><td>107.43</td><td>79.35172</td><td> 42049.03</td></tr>\n",
       "\t<tr><td> 3574965</td><td>0.015226261</td><td> 40107.594</td><td>0.0008106754</td><td>6    </td><td>2020</td><td>107.43</td><td>79.35172</td><td> 50544.07</td></tr>\n",
       "\t<tr><td> 3574965</td><td>0.014909880</td><td> 48670.216</td><td>0.0008703591</td><td>7    </td><td>2020</td><td>107.43</td><td>79.35172</td><td> 61334.79</td></tr>\n",
       "\t<tr><td> 3574965</td><td>0.015416104</td><td> 60597.789</td><td>0.0010821792</td><td>8    </td><td>2020</td><td>107.43</td><td>79.35172</td><td> 76366.07</td></tr>\n",
       "\t<tr><td> 3574965</td><td>0.015463954</td><td> 80436.754</td><td>0.0015050709</td><td>9    </td><td>2020</td><td>107.43</td><td>79.35172</td><td>101367.37</td></tr>\n",
       "\t<tr><td> 3574974</td><td>0.017411549</td><td>163281.517</td><td>0.0186704920</td><td>10   </td><td>2020</td><td>107.43</td><td>79.35172</td><td>205769.34</td></tr>\n",
       "</tbody>\n",
       "</table>\n"
      ],
      "text/latex": [
       "A tibble: 11 × 9\n",
       "\\begin{tabular}{lllllllll}\n",
       " hogares & hogares\\_cv & ing\\_prom & ing\\_prom\\_cv & decil\\_hogar & year & valor & inpcbase & ing\\_prom\\_real\\\\\n",
       " <dbl> & <dbl> & <dbl> & <dbl> & <fct> & <dbl> & <dbl> & <dbl> & <dbl>\\\\\n",
       "\\hline\n",
       "\t 35749659 & 0.003329212 &  50309.313 & 0.0079605765 & Total & 2020 & 107.43 & 79.35172 &  63400.40\\\\\n",
       "\t  3574965 & 0.017625361 &   9937.778 & 0.0042294723 & 1     & 2020 & 107.43 & 79.35172 &  12523.71\\\\\n",
       "\t  3574965 & 0.014001495 &  16862.471 & 0.0013949381 & 2     & 2020 & 107.43 & 79.35172 &  21250.29\\\\\n",
       "\t  3574965 & 0.014889921 &  22273.714 & 0.0009942438 & 3     & 2020 & 107.43 & 79.35172 &  28069.60\\\\\n",
       "\t  3574965 & 0.014902130 &  27558.387 & 0.0008309191 & 4     & 2020 & 107.43 & 79.35172 &  34729.41\\\\\n",
       "\t  3574965 & 0.015454630 &  33366.628 & 0.0008485271 & 5     & 2020 & 107.43 & 79.35172 &  42049.03\\\\\n",
       "\t  3574965 & 0.015226261 &  40107.594 & 0.0008106754 & 6     & 2020 & 107.43 & 79.35172 &  50544.07\\\\\n",
       "\t  3574965 & 0.014909880 &  48670.216 & 0.0008703591 & 7     & 2020 & 107.43 & 79.35172 &  61334.79\\\\\n",
       "\t  3574965 & 0.015416104 &  60597.789 & 0.0010821792 & 8     & 2020 & 107.43 & 79.35172 &  76366.07\\\\\n",
       "\t  3574965 & 0.015463954 &  80436.754 & 0.0015050709 & 9     & 2020 & 107.43 & 79.35172 & 101367.37\\\\\n",
       "\t  3574974 & 0.017411549 & 163281.517 & 0.0186704920 & 10    & 2020 & 107.43 & 79.35172 & 205769.34\\\\\n",
       "\\end{tabular}\n"
      ],
      "text/markdown": [
       "\n",
       "A tibble: 11 × 9\n",
       "\n",
       "| hogares &lt;dbl&gt; | hogares_cv &lt;dbl&gt; | ing_prom &lt;dbl&gt; | ing_prom_cv &lt;dbl&gt; | decil_hogar &lt;fct&gt; | year &lt;dbl&gt; | valor &lt;dbl&gt; | inpcbase &lt;dbl&gt; | ing_prom_real &lt;dbl&gt; |\n",
       "|---|---|---|---|---|---|---|---|---|\n",
       "| 35749659 | 0.003329212 |  50309.313 | 0.0079605765 | Total | 2020 | 107.43 | 79.35172 |  63400.40 |\n",
       "|  3574965 | 0.017625361 |   9937.778 | 0.0042294723 | 1     | 2020 | 107.43 | 79.35172 |  12523.71 |\n",
       "|  3574965 | 0.014001495 |  16862.471 | 0.0013949381 | 2     | 2020 | 107.43 | 79.35172 |  21250.29 |\n",
       "|  3574965 | 0.014889921 |  22273.714 | 0.0009942438 | 3     | 2020 | 107.43 | 79.35172 |  28069.60 |\n",
       "|  3574965 | 0.014902130 |  27558.387 | 0.0008309191 | 4     | 2020 | 107.43 | 79.35172 |  34729.41 |\n",
       "|  3574965 | 0.015454630 |  33366.628 | 0.0008485271 | 5     | 2020 | 107.43 | 79.35172 |  42049.03 |\n",
       "|  3574965 | 0.015226261 |  40107.594 | 0.0008106754 | 6     | 2020 | 107.43 | 79.35172 |  50544.07 |\n",
       "|  3574965 | 0.014909880 |  48670.216 | 0.0008703591 | 7     | 2020 | 107.43 | 79.35172 |  61334.79 |\n",
       "|  3574965 | 0.015416104 |  60597.789 | 0.0010821792 | 8     | 2020 | 107.43 | 79.35172 |  76366.07 |\n",
       "|  3574965 | 0.015463954 |  80436.754 | 0.0015050709 | 9     | 2020 | 107.43 | 79.35172 | 101367.37 |\n",
       "|  3574974 | 0.017411549 | 163281.517 | 0.0186704920 | 10    | 2020 | 107.43 | 79.35172 | 205769.34 |\n",
       "\n"
      ],
      "text/plain": [
       "   hogares  hogares_cv  ing_prom   ing_prom_cv  decil_hogar year valor \n",
       "1  35749659 0.003329212  50309.313 0.0079605765 Total       2020 107.43\n",
       "2   3574965 0.017625361   9937.778 0.0042294723 1           2020 107.43\n",
       "3   3574965 0.014001495  16862.471 0.0013949381 2           2020 107.43\n",
       "4   3574965 0.014889921  22273.714 0.0009942438 3           2020 107.43\n",
       "5   3574965 0.014902130  27558.387 0.0008309191 4           2020 107.43\n",
       "6   3574965 0.015454630  33366.628 0.0008485271 5           2020 107.43\n",
       "7   3574965 0.015226261  40107.594 0.0008106754 6           2020 107.43\n",
       "8   3574965 0.014909880  48670.216 0.0008703591 7           2020 107.43\n",
       "9   3574965 0.015416104  60597.789 0.0010821792 8           2020 107.43\n",
       "10  3574965 0.015463954  80436.754 0.0015050709 9           2020 107.43\n",
       "11  3574974 0.017411549 163281.517 0.0186704920 10          2020 107.43\n",
       "   inpcbase ing_prom_real\n",
       "1  79.35172  63400.40    \n",
       "2  79.35172  12523.71    \n",
       "3  79.35172  21250.29    \n",
       "4  79.35172  28069.60    \n",
       "5  79.35172  34729.41    \n",
       "6  79.35172  42049.03    \n",
       "7  79.35172  50544.07    \n",
       "8  79.35172  61334.79    \n",
       "9  79.35172  76366.07    \n",
       "10 79.35172 101367.37    \n",
       "11 79.35172 205769.34    "
      ]
     },
     "metadata": {},
     "output_type": "display_data"
    }
   ],
   "source": [
    "estima_ingprom(\"data/concentradohogar_2020.csv\", \"ingreso_prom\")%>%\n",
    "    left_join(inpc)%>%\n",
    "    mutate(ing_prom_real=ing_prom/inpcbase*100)"
   ]
  }
 ],
 "metadata": {
  "kernelspec": {
   "display_name": "R",
   "language": "R",
   "name": "ir"
  },
  "language_info": {
   "codemirror_mode": "r",
   "file_extension": ".r",
   "mimetype": "text/x-r-source",
   "name": "R",
   "pygments_lexer": "r",
   "version": "4.4.1"
  }
 },
 "nbformat": 4,
 "nbformat_minor": 5
}
