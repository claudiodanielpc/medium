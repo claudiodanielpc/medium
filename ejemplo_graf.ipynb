{
 "cells": [
  {
   "cell_type": "code",
   "execution_count": 2,
   "id": "60c25d6c",
   "metadata": {
    "vscode": {
     "languageId": "r"
    }
   },
   "outputs": [
    {
     "name": "stderr",
     "output_type": "stream",
     "text": [
      "Cargando paquete requerido: pacman\n",
      "\n",
      "Using GitHub PAT from the git credential store.\n",
      "\n",
      "Downloading GitHub repo claudiodanielpc/enchulagraf@HEAD\n",
      "\n"
     ]
    },
    {
     "name": "stdout",
     "output_type": "stream",
     "text": [
      "rlang  (1.1.4 -> 1.1.6) [CRAN]\n",
      "glue   (1.7.0 -> 1.8.0) [CRAN]\n",
      "cli    (3.6.3 -> 3.6.5) [CRAN]\n",
      "tibble (3.2.1 -> 3.3.0) [CRAN]\n"
     ]
    },
    {
     "name": "stderr",
     "output_type": "stream",
     "text": [
      "Installing 4 packages: rlang, glue, cli, tibble\n",
      "\n",
      "Warning message:\n",
      "\"package 'tibble' is in use and will not be installed\"\n",
      "Installing packages into 'C:/Users/claud/AppData/Local/R/win-library/4.4'\n",
      "(as 'lib' is unspecified)\n",
      "\n"
     ]
    },
    {
     "name": "stdout",
     "output_type": "stream",
     "text": [
      "package 'rlang' successfully unpacked and MD5 sums checked\n"
     ]
    },
    {
     "name": "stderr",
     "output_type": "stream",
     "text": [
      "Warning message:\n",
      "\"cannot remove prior installation of package 'rlang'\"\n",
      "Warning message in file.copy(savedcopy, lib, recursive = TRUE):\n",
      "\"problema al copiar C:\\Users\\claud\\AppData\\Local\\R\\win-library\\4.4\\00LOCK\\rlang\\libs\\x64\\rlang.dll  a C:\\Users\\claud\\AppData\\Local\\R\\win-library\\4.4\\rlang\\libs\\x64\\rlang.dll: Permission denied\"\n",
      "Warning message:\n",
      "\"restored 'rlang'\"\n"
     ]
    },
    {
     "name": "stdout",
     "output_type": "stream",
     "text": [
      "package 'glue' successfully unpacked and MD5 sums checked\n"
     ]
    },
    {
     "name": "stderr",
     "output_type": "stream",
     "text": [
      "Warning message:\n",
      "\"cannot remove prior installation of package 'glue'\"\n",
      "Warning message in file.copy(savedcopy, lib, recursive = TRUE):\n",
      "\"problema al copiar C:\\Users\\claud\\AppData\\Local\\R\\win-library\\4.4\\00LOCK\\glue\\libs\\x64\\glue.dll  a C:\\Users\\claud\\AppData\\Local\\R\\win-library\\4.4\\glue\\libs\\x64\\glue.dll: Permission denied\"\n",
      "Warning message:\n",
      "\"restored 'glue'\"\n"
     ]
    },
    {
     "name": "stdout",
     "output_type": "stream",
     "text": [
      "package 'cli' successfully unpacked and MD5 sums checked\n"
     ]
    },
    {
     "name": "stderr",
     "output_type": "stream",
     "text": [
      "Warning message:\n",
      "\"cannot remove prior installation of package 'cli'\"\n",
      "Warning message in file.copy(savedcopy, lib, recursive = TRUE):\n",
      "\"problema al copiar C:\\Users\\claud\\AppData\\Local\\R\\win-library\\4.4\\00LOCK\\cli\\libs\\x64\\cli.dll  a C:\\Users\\claud\\AppData\\Local\\R\\win-library\\4.4\\cli\\libs\\x64\\cli.dll: Permission denied\"\n",
      "Warning message:\n",
      "\"restored 'cli'\"\n"
     ]
    },
    {
     "name": "stdout",
     "output_type": "stream",
     "text": [
      "\n",
      "The downloaded binary packages are in\n",
      "\tC:\\Users\\claud\\AppData\\Local\\Temp\\RtmpQNysqA\\downloaded_packages\n",
      "\u001b[36m──\u001b[39m \u001b[36mR CMD build\u001b[39m \u001b[36m─────────────────────────────────────────────────────────────────\u001b[39m\n",
      "* checking for file 'C:\\Users\\claud\\AppData\\Local\\Temp\\RtmpQNysqA\\remotes2b2c46665c0e\\claudiodanielpc-enchulagraf-1429591/DESCRIPTION' ... OK\n",
      "* preparing 'enchulagraf':\n",
      "* checking DESCRIPTION meta-information ... OK\n",
      "* checking for LF line-endings in source and make files and shell scripts\n",
      "* checking for empty or unneeded directories\n",
      "Omitted 'LazyData' from DESCRIPTION\n",
      "* building 'enchulagraf_0.1.0.tar.gz'\n",
      "\n"
     ]
    },
    {
     "name": "stderr",
     "output_type": "stream",
     "text": [
      "Installing package into 'C:/Users/claud/AppData/Local/R/win-library/4.4'\n",
      "(as 'lib' is unspecified)\n",
      "\n"
     ]
    }
   ],
   "source": [
    "# Librerías ====\n",
    "if(!require('pacman')) install.packages('pacman')\n",
    "pacman::p_load(showtext,tidyverse)\n",
    "font_add_google(\"Montserrat\", \"pop\")\n",
    "showtext_auto()\n",
    "\n",
    "remotes::install_github(\"claudiodanielpc/enchulagraf\", force = TRUE)\n",
    "library(enchulagraf)"
   ]
  },
  {
   "cell_type": "code",
   "execution_count": null,
   "id": "9c8f7473",
   "metadata": {
    "vscode": {
     "languageId": "r"
    }
   },
   "outputs": [],
   "source": [
    "url<-\"https://www.inegi.org.mx/app/api/indicadores/desarrolladores/jsonxml/INDICATOR/910406/es/0700/false/BIE/2.0/TU_TOKEN?type=json\""
   ]
  },
  {
   "cell_type": "code",
   "execution_count": 4,
   "id": "ed08e05e",
   "metadata": {
    "vscode": {
     "languageId": "r"
    }
   },
   "outputs": [
    {
     "data": {
      "text/html": [
       "<table class=\"dataframe\">\n",
       "<caption>A data.frame: 55 × 4</caption>\n",
       "<thead>\n",
       "\t<tr><th scope=col>time_period</th><th scope=col>obs_value</th><th scope=col>year</th><th scope=col>month</th></tr>\n",
       "\t<tr><th scope=col>&lt;chr&gt;</th><th scope=col>&lt;dbl&gt;</th><th scope=col>&lt;dbl&gt;</th><th scope=col>&lt;dbl&gt;</th></tr>\n",
       "</thead>\n",
       "<tbody>\n",
       "\t<tr><td>2024/12</td><td>  4.21</td><td>2024</td><td>12</td></tr>\n",
       "\t<tr><td>2023/12</td><td>  4.66</td><td>2023</td><td>12</td></tr>\n",
       "\t<tr><td>2022/12</td><td>  7.82</td><td>2022</td><td>12</td></tr>\n",
       "\t<tr><td>2021/12</td><td>  7.36</td><td>2021</td><td>12</td></tr>\n",
       "\t<tr><td>2020/12</td><td>  3.15</td><td>2020</td><td>12</td></tr>\n",
       "\t<tr><td>2019/12</td><td>  2.83</td><td>2019</td><td>12</td></tr>\n",
       "\t<tr><td>2018/12</td><td>  4.83</td><td>2018</td><td>12</td></tr>\n",
       "\t<tr><td>2017/12</td><td>  6.77</td><td>2017</td><td>12</td></tr>\n",
       "\t<tr><td>2016/12</td><td>  3.36</td><td>2016</td><td>12</td></tr>\n",
       "\t<tr><td>2015/12</td><td>  2.13</td><td>2015</td><td>12</td></tr>\n",
       "\t<tr><td>2014/12</td><td>  4.08</td><td>2014</td><td>12</td></tr>\n",
       "\t<tr><td>2013/12</td><td>  3.97</td><td>2013</td><td>12</td></tr>\n",
       "\t<tr><td>2012/12</td><td>  3.57</td><td>2012</td><td>12</td></tr>\n",
       "\t<tr><td>2011/12</td><td>  3.82</td><td>2011</td><td>12</td></tr>\n",
       "\t<tr><td>2010/12</td><td>  4.40</td><td>2010</td><td>12</td></tr>\n",
       "\t<tr><td>2009/12</td><td>  3.57</td><td>2009</td><td>12</td></tr>\n",
       "\t<tr><td>2008/12</td><td>  6.53</td><td>2008</td><td>12</td></tr>\n",
       "\t<tr><td>2007/12</td><td>  3.76</td><td>2007</td><td>12</td></tr>\n",
       "\t<tr><td>2006/12</td><td>  4.05</td><td>2006</td><td>12</td></tr>\n",
       "\t<tr><td>2005/12</td><td>  3.33</td><td>2005</td><td>12</td></tr>\n",
       "\t<tr><td>2004/12</td><td>  5.19</td><td>2004</td><td>12</td></tr>\n",
       "\t<tr><td>2003/12</td><td>  3.98</td><td>2003</td><td>12</td></tr>\n",
       "\t<tr><td>2002/12</td><td>  5.70</td><td>2002</td><td>12</td></tr>\n",
       "\t<tr><td>2001/12</td><td>  4.40</td><td>2001</td><td>12</td></tr>\n",
       "\t<tr><td>2000/12</td><td>  8.96</td><td>2000</td><td>12</td></tr>\n",
       "\t<tr><td>1999/12</td><td> 12.32</td><td>1999</td><td>12</td></tr>\n",
       "\t<tr><td>1998/12</td><td> 18.61</td><td>1998</td><td>12</td></tr>\n",
       "\t<tr><td>1997/12</td><td> 15.72</td><td>1997</td><td>12</td></tr>\n",
       "\t<tr><td>1996/12</td><td> 27.70</td><td>1996</td><td>12</td></tr>\n",
       "\t<tr><td>1995/12</td><td> 51.97</td><td>1995</td><td>12</td></tr>\n",
       "\t<tr><td>1994/12</td><td>  7.05</td><td>1994</td><td>12</td></tr>\n",
       "\t<tr><td>1993/12</td><td>  8.01</td><td>1993</td><td>12</td></tr>\n",
       "\t<tr><td>1992/12</td><td> 11.94</td><td>1992</td><td>12</td></tr>\n",
       "\t<tr><td>1991/12</td><td> 18.79</td><td>1991</td><td>12</td></tr>\n",
       "\t<tr><td>1990/12</td><td> 29.93</td><td>1990</td><td>12</td></tr>\n",
       "\t<tr><td>1989/12</td><td> 19.70</td><td>1989</td><td>12</td></tr>\n",
       "\t<tr><td>1988/12</td><td> 51.66</td><td>1988</td><td>12</td></tr>\n",
       "\t<tr><td>1987/12</td><td>159.17</td><td>1987</td><td>12</td></tr>\n",
       "\t<tr><td>1986/12</td><td>105.75</td><td>1986</td><td>12</td></tr>\n",
       "\t<tr><td>1985/12</td><td> 63.75</td><td>1985</td><td>12</td></tr>\n",
       "\t<tr><td>1984/12</td><td> 59.16</td><td>1984</td><td>12</td></tr>\n",
       "\t<tr><td>1983/12</td><td> 80.78</td><td>1983</td><td>12</td></tr>\n",
       "\t<tr><td>1982/12</td><td> 98.84</td><td>1982</td><td>12</td></tr>\n",
       "\t<tr><td>1981/12</td><td> 28.68</td><td>1981</td><td>12</td></tr>\n",
       "\t<tr><td>1980/12</td><td> 29.85</td><td>1980</td><td>12</td></tr>\n",
       "\t<tr><td>1979/12</td><td> 20.02</td><td>1979</td><td>12</td></tr>\n",
       "\t<tr><td>1978/12</td><td> 16.17</td><td>1978</td><td>12</td></tr>\n",
       "\t<tr><td>1977/12</td><td> 20.66</td><td>1977</td><td>12</td></tr>\n",
       "\t<tr><td>1976/12</td><td> 27.20</td><td>1976</td><td>12</td></tr>\n",
       "\t<tr><td>1975/12</td><td> 11.31</td><td>1975</td><td>12</td></tr>\n",
       "\t<tr><td>1974/12</td><td> 20.60</td><td>1974</td><td>12</td></tr>\n",
       "\t<tr><td>1973/12</td><td> 21.37</td><td>1973</td><td>12</td></tr>\n",
       "\t<tr><td>1972/12</td><td>  5.56</td><td>1972</td><td>12</td></tr>\n",
       "\t<tr><td>1971/12</td><td>  4.96</td><td>1971</td><td>12</td></tr>\n",
       "\t<tr><td>1970/12</td><td>  4.69</td><td>1970</td><td>12</td></tr>\n",
       "</tbody>\n",
       "</table>\n"
      ],
      "text/latex": [
       "A data.frame: 55 × 4\n",
       "\\begin{tabular}{llll}\n",
       " time\\_period & obs\\_value & year & month\\\\\n",
       " <chr> & <dbl> & <dbl> & <dbl>\\\\\n",
       "\\hline\n",
       "\t 2024/12 &   4.21 & 2024 & 12\\\\\n",
       "\t 2023/12 &   4.66 & 2023 & 12\\\\\n",
       "\t 2022/12 &   7.82 & 2022 & 12\\\\\n",
       "\t 2021/12 &   7.36 & 2021 & 12\\\\\n",
       "\t 2020/12 &   3.15 & 2020 & 12\\\\\n",
       "\t 2019/12 &   2.83 & 2019 & 12\\\\\n",
       "\t 2018/12 &   4.83 & 2018 & 12\\\\\n",
       "\t 2017/12 &   6.77 & 2017 & 12\\\\\n",
       "\t 2016/12 &   3.36 & 2016 & 12\\\\\n",
       "\t 2015/12 &   2.13 & 2015 & 12\\\\\n",
       "\t 2014/12 &   4.08 & 2014 & 12\\\\\n",
       "\t 2013/12 &   3.97 & 2013 & 12\\\\\n",
       "\t 2012/12 &   3.57 & 2012 & 12\\\\\n",
       "\t 2011/12 &   3.82 & 2011 & 12\\\\\n",
       "\t 2010/12 &   4.40 & 2010 & 12\\\\\n",
       "\t 2009/12 &   3.57 & 2009 & 12\\\\\n",
       "\t 2008/12 &   6.53 & 2008 & 12\\\\\n",
       "\t 2007/12 &   3.76 & 2007 & 12\\\\\n",
       "\t 2006/12 &   4.05 & 2006 & 12\\\\\n",
       "\t 2005/12 &   3.33 & 2005 & 12\\\\\n",
       "\t 2004/12 &   5.19 & 2004 & 12\\\\\n",
       "\t 2003/12 &   3.98 & 2003 & 12\\\\\n",
       "\t 2002/12 &   5.70 & 2002 & 12\\\\\n",
       "\t 2001/12 &   4.40 & 2001 & 12\\\\\n",
       "\t 2000/12 &   8.96 & 2000 & 12\\\\\n",
       "\t 1999/12 &  12.32 & 1999 & 12\\\\\n",
       "\t 1998/12 &  18.61 & 1998 & 12\\\\\n",
       "\t 1997/12 &  15.72 & 1997 & 12\\\\\n",
       "\t 1996/12 &  27.70 & 1996 & 12\\\\\n",
       "\t 1995/12 &  51.97 & 1995 & 12\\\\\n",
       "\t 1994/12 &   7.05 & 1994 & 12\\\\\n",
       "\t 1993/12 &   8.01 & 1993 & 12\\\\\n",
       "\t 1992/12 &  11.94 & 1992 & 12\\\\\n",
       "\t 1991/12 &  18.79 & 1991 & 12\\\\\n",
       "\t 1990/12 &  29.93 & 1990 & 12\\\\\n",
       "\t 1989/12 &  19.70 & 1989 & 12\\\\\n",
       "\t 1988/12 &  51.66 & 1988 & 12\\\\\n",
       "\t 1987/12 & 159.17 & 1987 & 12\\\\\n",
       "\t 1986/12 & 105.75 & 1986 & 12\\\\\n",
       "\t 1985/12 &  63.75 & 1985 & 12\\\\\n",
       "\t 1984/12 &  59.16 & 1984 & 12\\\\\n",
       "\t 1983/12 &  80.78 & 1983 & 12\\\\\n",
       "\t 1982/12 &  98.84 & 1982 & 12\\\\\n",
       "\t 1981/12 &  28.68 & 1981 & 12\\\\\n",
       "\t 1980/12 &  29.85 & 1980 & 12\\\\\n",
       "\t 1979/12 &  20.02 & 1979 & 12\\\\\n",
       "\t 1978/12 &  16.17 & 1978 & 12\\\\\n",
       "\t 1977/12 &  20.66 & 1977 & 12\\\\\n",
       "\t 1976/12 &  27.20 & 1976 & 12\\\\\n",
       "\t 1975/12 &  11.31 & 1975 & 12\\\\\n",
       "\t 1974/12 &  20.60 & 1974 & 12\\\\\n",
       "\t 1973/12 &  21.37 & 1973 & 12\\\\\n",
       "\t 1972/12 &   5.56 & 1972 & 12\\\\\n",
       "\t 1971/12 &   4.96 & 1971 & 12\\\\\n",
       "\t 1970/12 &   4.69 & 1970 & 12\\\\\n",
       "\\end{tabular}\n"
      ],
      "text/markdown": [
       "\n",
       "A data.frame: 55 × 4\n",
       "\n",
       "| time_period &lt;chr&gt; | obs_value &lt;dbl&gt; | year &lt;dbl&gt; | month &lt;dbl&gt; |\n",
       "|---|---|---|---|\n",
       "| 2024/12 |   4.21 | 2024 | 12 |\n",
       "| 2023/12 |   4.66 | 2023 | 12 |\n",
       "| 2022/12 |   7.82 | 2022 | 12 |\n",
       "| 2021/12 |   7.36 | 2021 | 12 |\n",
       "| 2020/12 |   3.15 | 2020 | 12 |\n",
       "| 2019/12 |   2.83 | 2019 | 12 |\n",
       "| 2018/12 |   4.83 | 2018 | 12 |\n",
       "| 2017/12 |   6.77 | 2017 | 12 |\n",
       "| 2016/12 |   3.36 | 2016 | 12 |\n",
       "| 2015/12 |   2.13 | 2015 | 12 |\n",
       "| 2014/12 |   4.08 | 2014 | 12 |\n",
       "| 2013/12 |   3.97 | 2013 | 12 |\n",
       "| 2012/12 |   3.57 | 2012 | 12 |\n",
       "| 2011/12 |   3.82 | 2011 | 12 |\n",
       "| 2010/12 |   4.40 | 2010 | 12 |\n",
       "| 2009/12 |   3.57 | 2009 | 12 |\n",
       "| 2008/12 |   6.53 | 2008 | 12 |\n",
       "| 2007/12 |   3.76 | 2007 | 12 |\n",
       "| 2006/12 |   4.05 | 2006 | 12 |\n",
       "| 2005/12 |   3.33 | 2005 | 12 |\n",
       "| 2004/12 |   5.19 | 2004 | 12 |\n",
       "| 2003/12 |   3.98 | 2003 | 12 |\n",
       "| 2002/12 |   5.70 | 2002 | 12 |\n",
       "| 2001/12 |   4.40 | 2001 | 12 |\n",
       "| 2000/12 |   8.96 | 2000 | 12 |\n",
       "| 1999/12 |  12.32 | 1999 | 12 |\n",
       "| 1998/12 |  18.61 | 1998 | 12 |\n",
       "| 1997/12 |  15.72 | 1997 | 12 |\n",
       "| 1996/12 |  27.70 | 1996 | 12 |\n",
       "| 1995/12 |  51.97 | 1995 | 12 |\n",
       "| 1994/12 |   7.05 | 1994 | 12 |\n",
       "| 1993/12 |   8.01 | 1993 | 12 |\n",
       "| 1992/12 |  11.94 | 1992 | 12 |\n",
       "| 1991/12 |  18.79 | 1991 | 12 |\n",
       "| 1990/12 |  29.93 | 1990 | 12 |\n",
       "| 1989/12 |  19.70 | 1989 | 12 |\n",
       "| 1988/12 |  51.66 | 1988 | 12 |\n",
       "| 1987/12 | 159.17 | 1987 | 12 |\n",
       "| 1986/12 | 105.75 | 1986 | 12 |\n",
       "| 1985/12 |  63.75 | 1985 | 12 |\n",
       "| 1984/12 |  59.16 | 1984 | 12 |\n",
       "| 1983/12 |  80.78 | 1983 | 12 |\n",
       "| 1982/12 |  98.84 | 1982 | 12 |\n",
       "| 1981/12 |  28.68 | 1981 | 12 |\n",
       "| 1980/12 |  29.85 | 1980 | 12 |\n",
       "| 1979/12 |  20.02 | 1979 | 12 |\n",
       "| 1978/12 |  16.17 | 1978 | 12 |\n",
       "| 1977/12 |  20.66 | 1977 | 12 |\n",
       "| 1976/12 |  27.20 | 1976 | 12 |\n",
       "| 1975/12 |  11.31 | 1975 | 12 |\n",
       "| 1974/12 |  20.60 | 1974 | 12 |\n",
       "| 1973/12 |  21.37 | 1973 | 12 |\n",
       "| 1972/12 |   5.56 | 1972 | 12 |\n",
       "| 1971/12 |   4.96 | 1971 | 12 |\n",
       "| 1970/12 |   4.69 | 1970 | 12 |\n",
       "\n"
      ],
      "text/plain": [
       "   time_period obs_value year month\n",
       "1  2024/12       4.21    2024 12   \n",
       "2  2023/12       4.66    2023 12   \n",
       "3  2022/12       7.82    2022 12   \n",
       "4  2021/12       7.36    2021 12   \n",
       "5  2020/12       3.15    2020 12   \n",
       "6  2019/12       2.83    2019 12   \n",
       "7  2018/12       4.83    2018 12   \n",
       "8  2017/12       6.77    2017 12   \n",
       "9  2016/12       3.36    2016 12   \n",
       "10 2015/12       2.13    2015 12   \n",
       "11 2014/12       4.08    2014 12   \n",
       "12 2013/12       3.97    2013 12   \n",
       "13 2012/12       3.57    2012 12   \n",
       "14 2011/12       3.82    2011 12   \n",
       "15 2010/12       4.40    2010 12   \n",
       "16 2009/12       3.57    2009 12   \n",
       "17 2008/12       6.53    2008 12   \n",
       "18 2007/12       3.76    2007 12   \n",
       "19 2006/12       4.05    2006 12   \n",
       "20 2005/12       3.33    2005 12   \n",
       "21 2004/12       5.19    2004 12   \n",
       "22 2003/12       3.98    2003 12   \n",
       "23 2002/12       5.70    2002 12   \n",
       "24 2001/12       4.40    2001 12   \n",
       "25 2000/12       8.96    2000 12   \n",
       "26 1999/12      12.32    1999 12   \n",
       "27 1998/12      18.61    1998 12   \n",
       "28 1997/12      15.72    1997 12   \n",
       "29 1996/12      27.70    1996 12   \n",
       "30 1995/12      51.97    1995 12   \n",
       "31 1994/12       7.05    1994 12   \n",
       "32 1993/12       8.01    1993 12   \n",
       "33 1992/12      11.94    1992 12   \n",
       "34 1991/12      18.79    1991 12   \n",
       "35 1990/12      29.93    1990 12   \n",
       "36 1989/12      19.70    1989 12   \n",
       "37 1988/12      51.66    1988 12   \n",
       "38 1987/12     159.17    1987 12   \n",
       "39 1986/12     105.75    1986 12   \n",
       "40 1985/12      63.75    1985 12   \n",
       "41 1984/12      59.16    1984 12   \n",
       "42 1983/12      80.78    1983 12   \n",
       "43 1982/12      98.84    1982 12   \n",
       "44 1981/12      28.68    1981 12   \n",
       "45 1980/12      29.85    1980 12   \n",
       "46 1979/12      20.02    1979 12   \n",
       "47 1978/12      16.17    1978 12   \n",
       "48 1977/12      20.66    1977 12   \n",
       "49 1976/12      27.20    1976 12   \n",
       "50 1975/12      11.31    1975 12   \n",
       "51 1974/12      20.60    1974 12   \n",
       "52 1973/12      21.37    1973 12   \n",
       "53 1972/12       5.56    1972 12   \n",
       "54 1971/12       4.96    1971 12   \n",
       "55 1970/12       4.69    1970 12   "
      ]
     },
     "metadata": {},
     "output_type": "display_data"
    }
   ],
   "source": [
    "#Hacer consulta a la API\n",
    "datos <- jsonlite::fromJSON(url)\n",
    "inflacion<-as.data.frame(datos$Series$OBSERVATIONS)\n",
    "#Dataframe con TIME_PERIOD y VALUE\n",
    "df <- inflacion %>%\n",
    "  select(TIME_PERIOD, OBS_VALUE) %>%\n",
    "  janitor::clean_names()%>%\n",
    "  #Extraer año y mes\n",
    "  mutate(\n",
    "    year = as.numeric(substr(time_period, 1, 4)),\n",
    "    month = as.numeric(substr(time_period, 6, 7)),\n",
    "    obs_value=as.numeric(obs_value)\n",
    "  )%>%\n",
    "  filter(month==12)\n",
    "df"
   ]
  },
  {
   "cell_type": "code",
   "execution_count": 9,
   "id": "ca529535",
   "metadata": {
    "vscode": {
     "languageId": "r"
    }
   },
   "outputs": [
    {
     "data": {
      "image/png": "[encoded data removed]",
      "text/plain": [
       "plot without title"
      ]
     },
     "metadata": {
      "image/png": {
       "height": 420,
       "width": 420
      }
     },
     "output_type": "display_data"
    }
   ],
   "source": [
    "grafica_linea(df, \n",
    "          x = \"year\", \n",
    "          y = \"obs_value\", \n",
    "          titulo = \"Inflación interanual, 1970-2024\",\n",
    "          subtitulo = \"(Porcentaje)\",\n",
    "          titulo_x = \"Año\",\n",
    "          titulo_y = \"%\",\n",
    "          tam_titulo_ejes = 20,\n",
    "          tam_title = 30,\n",
    "          caption = \"Fuente: @claudiodanielpc con información de INEGI. Índice Nacional de Precios al Consumidor\",\n",
    "          color = \"#9F2241\",\n",
    "          fuente= \"pop\")"
   ]
  }
 ],
 "metadata": {
  "kernelspec": {
   "display_name": "R",
   "language": "R",
   "name": "ir"
  },
  "language_info": {
   "codemirror_mode": "r",
   "file_extension": ".r",
   "mimetype": "text/x-r-source",
   "name": "R",
   "pygments_lexer": "r",
   "version": "4.4.1"
  }
 },
 "nbformat": 4,
 "nbformat_minor": 5
}
