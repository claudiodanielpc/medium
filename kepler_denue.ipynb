{
 "cells": [
  {
   "cell_type": "code",
   "execution_count": 1,
   "metadata": {},
   "outputs": [],
   "source": [
    "import pandas as pd\n",
    "import requests\n",
    "from keplergl import KeplerGl"
   ]
  },
  {
   "cell_type": "code",
   "execution_count": 2,
   "metadata": {},
   "outputs": [],
   "source": [
    "url = \"https://www.inegi.org.mx/app/api/denue/v1/consulta/BuscarEntidad/todos/17/1/100000000/a004f0de-f1d3-0adf-1bfb-81bac98fa7b5\"\n",
    "respuesta = requests.get(url).json()"
   ]
  },
  {
   "cell_type": "code",
   "execution_count": 25,
   "metadata": {},
   "outputs": [],
   "source": [
    "#Dataframe de pandas\n",
    "df= pd.DataFrame(respuesta)\n",
    "##Pasamos los nombres de las variables a minúsculas\n",
    "df.columns= df.columns.str.lower()\n",
    "#Extraemos clave de municipio\n",
    "df[\"cve_mun\"]=df['clee'].str[2:5]\n",
    "\n",
    "#Filtro de establecimientos de Cuernavaca con 251 y más personas ocupadas\n",
    "df.query('cve_mun == \"007\" and estrato==  \"251 y más personas\"', inplace = True)\n",
    "#Seleccionar únicamente latitud y longitud y pasarlas a formato númerico\n",
    "df=df[[\"longitud\", \"latitud\"]]\n",
    "df=df.apply(pd.to_numeric)\n"
   ]
  },
  {
   "cell_type": "code",
   "execution_count": 31,
   "metadata": {},
   "outputs": [
    {
     "data": {
      "application/vnd.jupyter.widget-view+json": {
       "model_id": "b0a853bbdef643568d9be79e799b3968",
       "version_major": 2,
       "version_minor": 0
      },
      "text/plain": [
       "KeplerGl(data={'DENUE':          longitud    latitud\n",
       "36     -99.239163  18.963316\n",
       "49     -99.246551  18.963643…"
      ]
     },
     "metadata": {},
     "output_type": "display_data"
    }
   ],
   "source": [
    "map=KeplerGl(height=800, data={\"DENUE\":df},show_docs=False)\n",
    "map"
   ]
  },
  {
   "cell_type": "code",
   "execution_count": 32,
   "metadata": {},
   "outputs": [],
   "source": [
    "#Obtener y almacenar la configuración del mapa ajustado\n",
    "config=map.config\n",
    "\n",
    "#Guardar el mapa con la configuración generada\n",
    "map=KeplerGl(height=800, data={\"DENUE\":df},show_docs=False, config=config)"
   ]
  },
  {
   "cell_type": "code",
   "execution_count": 33,
   "metadata": {},
   "outputs": [
    {
     "name": "stdout",
     "output_type": "stream",
     "text": [
      "Map saved to D:\\mapa_cuerna.html!\n"
     ]
    }
   ],
   "source": [
    "#Salvar mapa\n",
    "map.save_to_html(config=config, file_name='D:\\\\mapa_cuerna.html')"
   ]
  }
 ],
 "metadata": {
  "interpreter": {
   "hash": "6dfa952df24235a7f82c054f89bdfa0be495d0889012dc8a2693c32303930461"
  },
  "kernelspec": {
   "display_name": "Python 3.9.5 64-bit ('base': conda)",
   "name": "python3"
  },
  "language_info": {
   "codemirror_mode": {
    "name": "ipython",
    "version": 3
   },
   "file_extension": ".py",
   "mimetype": "text/x-python",
   "name": "python",
   "nbconvert_exporter": "python",
   "pygments_lexer": "ipython3",
   "version": "3.9.5"
  },
  "orig_nbformat": 4
 },
 "nbformat": 4,
 "nbformat_minor": 2
}
