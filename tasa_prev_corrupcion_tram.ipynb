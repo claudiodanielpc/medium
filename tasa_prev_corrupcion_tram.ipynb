{
 "cells": [
  {
   "cell_type": "markdown",
   "id": "3d53eb74",
   "metadata": {},
   "source": [
    "### Estimación de tasa de prevalencia de corrupción en trámites por cada 100,000 habitantes\n",
    "\n",
    "Este notebook contiene el código para estimar la tasa de prevalencia de corrupción en trámites por cada 100,000 habitantes utilizando datos de la Encuesta Nacional de Calidad e Impacto Gubernamental (ENCIG) 2023."
   ]
  },
  {
   "cell_type": "code",
   "execution_count": null,
   "id": "d54bee02",
   "metadata": {
    "vscode": {
     "languageId": "r"
    }
   },
   "outputs": [
    {
     "name": "stderr",
     "output_type": "stream",
     "text": [
      "Cargando paquete requerido: pacman\n",
      "\n"
     ]
    }
   ],
   "source": [
    "rm(list=ls())\n",
    "\n",
    "# Librerías ====\n",
    "if(!require('pacman')) install.packages('pacman')\n",
    "pacman::p_load(tidyverse, srvyr)"
   ]
  },
  {
   "cell_type": "markdown",
   "id": "93522bf6",
   "metadata": {},
   "source": [
    "##### Descarga de archivos de la ENCIG"
   ]
  },
  {
   "cell_type": "code",
   "execution_count": null,
   "id": "a88ef4b0",
   "metadata": {
    "vscode": {
     "languageId": "r"
    }
   },
   "outputs": [],
   "source": [
    "#Directorio para guardar datos\n",
    "dir.create(\"data\", showWarnings = FALSE)"
   ]
  },
  {
   "cell_type": "code",
   "execution_count": null,
   "id": "c77ce927",
   "metadata": {
    "vscode": {
     "languageId": "r"
    }
   },
   "outputs": [],
   "source": [
    "url_encig_basica<-\"https://www.inegi.org.mx/contenidos/programas/encig/\"\n",
    "segunda_parte<-\"microdatos/encig\"\n",
    "years_encig<-c(\"2023\")"
   ]
  },
  {
   "cell_type": "code",
   "execution_count": 5,
   "id": "90b3dad5",
   "metadata": {
    "vscode": {
     "languageId": "r"
    }
   },
   "outputs": [
    {
     "name": "stdout",
     "output_type": "stream",
     "text": [
      "[1] \"https://www.inegi.org.mx/contenidos/programas/encig/2017/microdatos/encig17_base_datos_dbf.zip\"\n",
      "[1] \"https://www.inegi.org.mx/contenidos/programas/encig/2019/microdatos/encig19_base_datos_dbf.zip\"\n",
      "[1] \"https://www.inegi.org.mx/contenidos/programas/encig/2021/microdatos/encig21_base_datos_csv.zip\"\n",
      "[1] \"https://www.inegi.org.mx/contenidos/programas/encig/2023/microdatos/encig23_base_datos_csv.zip\"\n"
     ]
    }
   ],
   "source": [
    "# Descargar los archivos, descomprimirlos y renombrarlos\n",
    "options(timeout=10000)\n",
    "for (i in 1:length(years_encig)) {\n",
    "  # Ajustar el sufijo de la URL y archivo según el año\n",
    "  if (years_encig[i] %in% c(\"2017\", \"2019\")) {\n",
    "    fin <- \"_base_datos_dbf.zip\"\n",
    "  } else {\n",
    "    fin <- \"_base_datos_csv.zip\"\n",
    "  }\n",
    "\n",
    "  # Construir la URL y el nombre del archivo destino\n",
    "  url <- paste0(url_encig_basica, years_encig[i], \"/\", segunda_parte, str_sub(years_encig[i], 3, 4), fin)\n",
    "  print(url)\n",
    "  destfile <- paste0(\"data/encig\", str_sub(years_encig[i], 3, 4), fin)\n",
    "\n",
    "  # Descargar el archivo\n",
    "  download.file(url, destfile = destfile)\n",
    "\n",
    "  # Descomprimir el archivo\n",
    "  unzip(destfile, exdir = \"data\")\n",
    "}"
   ]
  },
  {
   "cell_type": "markdown",
   "id": "42dec64e",
   "metadata": {},
   "source": [
    "##### Lectura y procesamiento de datos"
   ]
  },
  {
   "cell_type": "code",
   "execution_count": null,
   "id": "e59239e3",
   "metadata": {
    "vscode": {
     "languageId": "r"
    }
   },
   "outputs": [],
   "source": [
    "#Variables llave para unir tablas\n",
    "keys <- c(\"upm\",\"v_sel\",\"r_ele\")"
   ]
  },
  {
   "cell_type": "code",
   "execution_count": null,
   "id": "3e16a7bf",
   "metadata": {
    "vscode": {
     "languageId": "r"
    }
   },
   "outputs": [
    {
     "name": "stderr",
     "output_type": "stream",
     "text": [
      "\u001b[1m\u001b[22mNew names:\n",
      "\u001b[36m•\u001b[39m `` -> `...1`\n",
      "\u001b[1m\u001b[22mNew names:\n",
      "\u001b[36m•\u001b[39m `` -> `...1`\n",
      "Warning message:\n",
      "\"\u001b[1m\u001b[22mOne or more parsing issues, call `problems()` on your data frame for details,\n",
      "e.g.:\n",
      "  dat <- vroom(...)\n",
      "  problems(dat)\"\n",
      "\u001b[1m\u001b[22mNew names:\n",
      "\u001b[36m•\u001b[39m `` -> `...1`\n",
      "Warning message:\n",
      "\"\u001b[1m\u001b[22mOne or more parsing issues, call `problems()` on your data frame for details,\n",
      "e.g.:\n",
      "  dat <- vroom(...)\n",
      "  problems(dat)\"\n"
     ]
    }
   ],
   "source": [
    "# --- Lee datos---\n",
    "#Se ocupan 3 tablas de la ENCIG\n",
    "sec1 <- read_csv(\"data/encig2023_01_sec1_A_3_4_5_8_9_10.csv\", show_col_types = FALSE) %>%\n",
    "janitor::clean_names() %>%\n",
    "  mutate(across(all_of(keys), as.character),\n",
    "         fac_p18 = as.numeric(fac_p18),\n",
    "         p8_3_1 = as.integer(p8_3_1),\n",
    "         p8_3_2 = as.integer(p8_3_2),\n",
    "         p8_3_3 = as.integer(p8_3_3))\n",
    "\n",
    "sec6 <- read_csv(\"data/encig2023_03_sec_6.csv\", show_col_types = FALSE) %>%\n",
    "janitor::clean_names() %>%\n",
    "  mutate(across(c(all_of(keys), \"n_tra\"), as.character),\n",
    "         p6_1 = as.integer(p6_1),\n",
    "         p6_3a = as.integer(p6_3a))\n",
    "\n",
    "sec7 <- read_csv(\"data/encig2023_04_sec_7.csv\", show_col_types = FALSE) %>%\n",
    "    janitor::clean_names() %>%\n",
    "  mutate(across(c(all_of(keys), \"n_tra\"), as.character),\n",
    "         p7_3 = as.integer(p7_3))\n"
   ]
  },
  {
   "cell_type": "markdown",
   "id": "cb7d64ab",
   "metadata": {},
   "source": [
    "##### Definición del numerador (Víctimas de corrupción en trámites)"
   ]
  },
  {
   "cell_type": "code",
   "execution_count": null,
   "id": "2c16a438",
   "metadata": {
    "vscode": {
     "languageId": "r"
    }
   },
   "outputs": [],
   "source": [
    "# --- C) Víctimas (numerador)\n",
    "vict_c <- sec1 %>%\n",
    "  transmute(across(all_of(keys)),\n",
    "            est_dis, upm_dis, fac_p18,\n",
    "            vict = as.integer(p8_3_1 == 1 | p8_3_2 == 1 | p8_3_3 == 1))"
   ]
  },
  {
   "cell_type": "markdown",
   "id": "5a7142eb",
   "metadata": {},
   "source": [
    "##### Definición del denominador (Población de 18 años y más que tuvo contacto con algún servidor público)"
   ]
  },
  {
   "cell_type": "code",
   "execution_count": null,
   "id": "df68cfdc",
   "metadata": {
    "vscode": {
     "languageId": "r"
    }
   },
   "outputs": [],
   "source": [
    "# --- A) Policías/autoridades (VI), personal: N_TRA==20 & P6_1==1 & P6_3A>0\n",
    "elig_A <- sec6 %>%\n",
    "  filter(n_tra == \"20\", p6_1 == 1, coalesce(p6_3a,0) > 0) %>%\n",
    "  distinct(across(all_of(keys))) %>%\n",
    "  mutate(A = 1)\n",
    "\n",
    "# --- B) Medio permitido (VII personal): P7_3 ∈ {1,3,6}\n",
    "elig_B <- sec7 %>%\n",
    "  filter(p7_3 %in% c(1,3,6)) %>%\n",
    "  distinct(across(all_of(keys))) %>%\n",
    "  mutate(B = 1)\n",
    "\n",
    "# --- Base persona con puertas y pesos\n",
    "base_persona <- vict_c %>%\n",
    "  left_join(elig_A, by = keys) %>%\n",
    "  left_join(elig_B, by = keys) %>%\n",
    "  mutate(A = replace_na(A, 0),\n",
    "         B = replace_na(B, 0),\n",
    "         elig = pmax(A, B, vict)) %>%  # A ∪ B ∪ C\n",
    "  # Renombramos columna PSU/STRATA “comunes” para pasar a srvyr como nombres simples\n",
    "  mutate(psu = upm_dis, strata = est_dis)\n",
    "\n"
   ]
  },
  {
   "cell_type": "markdown",
   "id": "2fec701a",
   "metadata": {},
   "source": [
    "##### Definición de diseño muestral y estimación de tasa de prevalencia de corrupción por cada 100000 habitantes"
   ]
  },
  {
   "cell_type": "code",
   "execution_count": 39,
   "id": "c5cb92ed",
   "metadata": {
    "vscode": {
     "languageId": "r"
    }
   },
   "outputs": [],
   "source": [
    "options(survey.lonely.psu = \"adjust\")  # manejo de estratos con 1 PSU\n",
    "# ── Diseño muestral\n",
    "dis_encig <- base_persona %>%\n",
    "  as_survey_design(\n",
    "    ids     = psu,\n",
    "    strata  = strata,\n",
    "    weights = fac_p18,\n",
    "    nest    = TRUE\n",
    "  )"
   ]
  },
  {
   "cell_type": "code",
   "execution_count": null,
   "id": "52b57b23",
   "metadata": {
    "vscode": {
     "languageId": "r"
    }
   },
   "outputs": [
    {
     "data": {
      "text/html": [
       "<table class=\"dataframe\">\n",
       "<caption>A tibble: 1 × 7</caption>\n",
       "<thead>\n",
       "\t<tr><th scope=col>num_vict</th><th scope=col>num_vict_cv</th><th scope=col>denom</th><th scope=col>denom_cv</th><th scope=col>tasa_prev</th><th scope=col>tasa_prev_cv</th><th scope=col>tasa_prev_100k</th></tr>\n",
       "\t<tr><th scope=col>&lt;dbl&gt;</th><th scope=col>&lt;dbl&gt;</th><th scope=col>&lt;dbl&gt;</th><th scope=col>&lt;dbl&gt;</th><th scope=col>&lt;dbl&gt;</th><th scope=col>&lt;dbl&gt;</th><th scope=col>&lt;dbl&gt;</th></tr>\n",
       "</thead>\n",
       "<tbody>\n",
       "\t<tr><td>5383732</td><td>0.02554774</td><td>38549281</td><td>0.008308292</td><td>0.1396584</td><td>0.02371224</td><td>13965.84</td></tr>\n",
       "</tbody>\n",
       "</table>\n"
      ],
      "text/latex": [
       "A tibble: 1 × 7\n",
       "\\begin{tabular}{lllllll}\n",
       " num\\_vict & num\\_vict\\_cv & denom & denom\\_cv & tasa\\_prev & tasa\\_prev\\_cv & tasa\\_prev\\_100k\\\\\n",
       " <dbl> & <dbl> & <dbl> & <dbl> & <dbl> & <dbl> & <dbl>\\\\\n",
       "\\hline\n",
       "\t 5383732 & 0.02554774 & 38549281 & 0.008308292 & 0.1396584 & 0.02371224 & 13965.84\\\\\n",
       "\\end{tabular}\n"
      ],
      "text/markdown": [
       "\n",
       "A tibble: 1 × 7\n",
       "\n",
       "| num_vict &lt;dbl&gt; | num_vict_cv &lt;dbl&gt; | denom &lt;dbl&gt; | denom_cv &lt;dbl&gt; | tasa_prev &lt;dbl&gt; | tasa_prev_cv &lt;dbl&gt; | tasa_prev_100k &lt;dbl&gt; |\n",
       "|---|---|---|---|---|---|---|\n",
       "| 5383732 | 0.02554774 | 38549281 | 0.008308292 | 0.1396584 | 0.02371224 | 13965.84 |\n",
       "\n"
      ],
      "text/plain": [
       "  num_vict num_vict_cv denom    denom_cv    tasa_prev tasa_prev_cv\n",
       "1 5383732  0.02554774  38549281 0.008308292 0.1396584 0.02371224  \n",
       "  tasa_prev_100k\n",
       "1 13965.84      "
      ]
     },
     "metadata": {},
     "output_type": "display_data"
    }
   ],
   "source": [
    "# ── Estimación nacional ──\n",
    "res_nal <- dis_encig %>%\n",
    "  summarize(\n",
    "    num_vict  = survey_total(vict,  vartype = c(\"cv\")),\n",
    "    denom     = survey_total(elig,  vartype = c(\"cv\")),\n",
    "    tasa_prev = survey_ratio(vict, elig, vartype = c(\"cv\"))\n",
    "  ) %>%\n",
    "    mutate(\n",
    "        tasa_prev_100k      = 100000 * tasa_prev\n",
    "    )\n",
    "\n",
    "res_nal"
   ]
  },
  {
   "attachments": {
    "image.png": {
     "image/png": "[encoded data removed]"
    }
   },
   "cell_type": "markdown",
   "id": "f22f9301",
   "metadata": {},
   "source": [
    "![image.png](attachment:image.png)"
   ]
  }
 ],
 "metadata": {
  "kernelspec": {
   "display_name": "R",
   "language": "R",
   "name": "ir"
  },
  "language_info": {
   "codemirror_mode": "r",
   "file_extension": ".r",
   "mimetype": "text/x-r-source",
   "name": "R",
   "pygments_lexer": "r",
   "version": "4.4.1"
  }
 },
 "nbformat": 4,
 "nbformat_minor": 5
}
