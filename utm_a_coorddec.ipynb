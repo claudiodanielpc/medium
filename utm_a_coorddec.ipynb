{
 "cells": [
  {
   "cell_type": "code",
   "execution_count": 1,
   "metadata": {},
   "outputs": [],
   "source": [
    "import pandas as pd\n",
    "from pyproj import Proj\n",
    "import folium"
   ]
  },
  {
   "cell_type": "code",
   "execution_count": 2,
   "metadata": {},
   "outputs": [],
   "source": [
    "#Escribir la coordenada de cdmx y ags en utm\n",
    "\n",
    "dato1=(486598.55442322, 2148242.7815043)\n",
    "dato2=(780800.69713277,2422286.7954812)"
   ]
  },
  {
   "cell_type": "code",
   "execution_count": 3,
   "metadata": {},
   "outputs": [
    {
     "data": {
      "text/html": [
       "<div>\n",
       "<style scoped>\n",
       "    .dataframe tbody tr th:only-of-type {\n",
       "        vertical-align: middle;\n",
       "    }\n",
       "\n",
       "    .dataframe tbody tr th {\n",
       "        vertical-align: top;\n",
       "    }\n",
       "\n",
       "    .dataframe thead th {\n",
       "        text-align: right;\n",
       "    }\n",
       "</style>\n",
       "<table border=\"1\" class=\"dataframe\">\n",
       "  <thead>\n",
       "    <tr style=\"text-align: right;\">\n",
       "      <th></th>\n",
       "      <th>coord_x</th>\n",
       "      <th>coord_y</th>\n",
       "      <th>entidad</th>\n",
       "    </tr>\n",
       "  </thead>\n",
       "  <tbody>\n",
       "    <tr>\n",
       "      <th>0</th>\n",
       "      <td>486598.554423</td>\n",
       "      <td>2.148243e+06</td>\n",
       "      <td>CDMX</td>\n",
       "    </tr>\n",
       "    <tr>\n",
       "      <th>1</th>\n",
       "      <td>780800.697133</td>\n",
       "      <td>2.422287e+06</td>\n",
       "      <td>Aguascalientes</td>\n",
       "    </tr>\n",
       "  </tbody>\n",
       "</table>\n",
       "</div>"
      ],
      "text/plain": [
       "         coord_x       coord_y         entidad\n",
       "0  486598.554423  2.148243e+06            CDMX\n",
       "1  780800.697133  2.422287e+06  Aguascalientes"
      ]
     },
     "execution_count": 3,
     "metadata": {},
     "output_type": "execute_result"
    }
   ],
   "source": [
    "#Construir dataframe con coordenadas utm\n",
    "\n",
    "df = pd.DataFrame([dato1, dato2], columns=['coord_x', 'coord_y'])\n",
    "\n",
    "#Primera coordenada de cdmx y segunda, de Aguascalientes\n",
    "df[\"entidad\"]=[\"CDMX\",\"Aguascalientes\"]\n",
    "\n",
    "df"
   ]
  },
  {
   "cell_type": "code",
   "execution_count": 4,
   "metadata": {},
   "outputs": [],
   "source": [
    "#Establecer proyección de acuerdo con el estado\n",
    "#CDMX\n",
    "p1 = Proj(proj='utm', zone=14, ellps='WGS84')\n",
    "#Aguascalientes\n",
    "p2 = Proj(proj='utm', zone=13, ellps='WGS84')"
   ]
  },
  {
   "cell_type": "code",
   "execution_count": 5,
   "metadata": {},
   "outputs": [],
   "source": [
    "#Transformar coordenadas utm a latitud y longitud de acuerdo con el estado y ponerlas en un dataframe\n",
    "\n",
    "for i in range(len(df)):\n",
    "    if df.iloc[i][\"entidad\"]==\"CDMX\":\n",
    "        lon, lat = p1(df.iloc[i]['coord_x'], df.iloc[i]['coord_y'], inverse=True)\n",
    "        df.loc[i, 'latitud'] = lat\n",
    "        df.loc[i, 'longitud'] = lon\n",
    "    else:\n",
    "        lon, lat = p2(df.iloc[i]['coord_x'], df.iloc[i]['coord_y'], inverse=True)\n",
    "        df.loc[i, 'latitud'] = lat\n",
    "        df.loc[i, 'longitud'] = lon\n"
   ]
  },
  {
   "cell_type": "code",
   "execution_count": 6,
   "metadata": {},
   "outputs": [
    {
     "data": {
      "text/html": [
       "<div>\n",
       "<style scoped>\n",
       "    .dataframe tbody tr th:only-of-type {\n",
       "        vertical-align: middle;\n",
       "    }\n",
       "\n",
       "    .dataframe tbody tr th {\n",
       "        vertical-align: top;\n",
       "    }\n",
       "\n",
       "    .dataframe thead th {\n",
       "        text-align: right;\n",
       "    }\n",
       "</style>\n",
       "<table border=\"1\" class=\"dataframe\">\n",
       "  <thead>\n",
       "    <tr style=\"text-align: right;\">\n",
       "      <th></th>\n",
       "      <th>coord_x</th>\n",
       "      <th>coord_y</th>\n",
       "      <th>entidad</th>\n",
       "      <th>latitud</th>\n",
       "      <th>longitud</th>\n",
       "    </tr>\n",
       "  </thead>\n",
       "  <tbody>\n",
       "    <tr>\n",
       "      <th>0</th>\n",
       "      <td>486598.554423</td>\n",
       "      <td>2.148243e+06</td>\n",
       "      <td>CDMX</td>\n",
       "      <td>19.42847</td>\n",
       "      <td>-99.12766</td>\n",
       "    </tr>\n",
       "    <tr>\n",
       "      <th>1</th>\n",
       "      <td>780800.697133</td>\n",
       "      <td>2.422287e+06</td>\n",
       "      <td>Aguascalientes</td>\n",
       "      <td>21.88234</td>\n",
       "      <td>-102.28259</td>\n",
       "    </tr>\n",
       "  </tbody>\n",
       "</table>\n",
       "</div>"
      ],
      "text/plain": [
       "         coord_x       coord_y         entidad   latitud   longitud\n",
       "0  486598.554423  2.148243e+06            CDMX  19.42847  -99.12766\n",
       "1  780800.697133  2.422287e+06  Aguascalientes  21.88234 -102.28259"
      ]
     },
     "execution_count": 6,
     "metadata": {},
     "output_type": "execute_result"
    }
   ],
   "source": [
    "df"
   ]
  },
  {
   "cell_type": "code",
   "execution_count": 7,
   "metadata": {},
   "outputs": [
    {
     "data": {
      "text/html": [
       "<div style=\"width:100%;\"><div style=\"position:relative;width:100%;height:0;padding-bottom:60%;\"><span style=\"color:#565656\">Make this Notebook Trusted to load map: File -> Trust Notebook</span><iframe srcdoc=\"&lt;!DOCTYPE html&gt;\n",
       "&lt;head&gt;    \n",
       "    &lt;meta http-equiv=&quot;content-type&quot; content=&quot;text/html; charset=UTF-8&quot; /&gt;\n",
       "    \n",
       "        &lt;script&gt;\n",
       "            L_NO_TOUCH = false;\n",
       "            L_DISABLE_3D = false;\n",
       "        &lt;/script&gt;\n",
       "    \n",
       "    &lt;style&gt;html, body {width: 100%;height: 100%;margin: 0;padding: 0;}&lt;/style&gt;\n",
       "    &lt;style&gt;#map {position:absolute;top:0;bottom:0;right:0;left:0;}&lt;/style&gt;\n",
       "    &lt;script src=&quot;https://cdn.jsdelivr.net/npm/leaflet@1.6.0/dist/leaflet.js&quot;&gt;&lt;/script&gt;\n",
       "    &lt;script src=&quot;https://code.jquery.com/jquery-1.12.4.min.js&quot;&gt;&lt;/script&gt;\n",
       "    &lt;script src=&quot;https://maxcdn.bootstrapcdn.com/bootstrap/3.2.0/js/bootstrap.min.js&quot;&gt;&lt;/script&gt;\n",
       "    &lt;script src=&quot;https://cdnjs.cloudflare.com/ajax/libs/Leaflet.awesome-markers/2.0.2/leaflet.awesome-markers.js&quot;&gt;&lt;/script&gt;\n",
       "    &lt;link rel=&quot;stylesheet&quot; href=&quot;https://cdn.jsdelivr.net/npm/leaflet@1.6.0/dist/leaflet.css&quot;/&gt;\n",
       "    &lt;link rel=&quot;stylesheet&quot; href=&quot;https://maxcdn.bootstrapcdn.com/bootstrap/3.2.0/css/bootstrap.min.css&quot;/&gt;\n",
       "    &lt;link rel=&quot;stylesheet&quot; href=&quot;https://maxcdn.bootstrapcdn.com/bootstrap/3.2.0/css/bootstrap-theme.min.css&quot;/&gt;\n",
       "    &lt;link rel=&quot;stylesheet&quot; href=&quot;https://maxcdn.bootstrapcdn.com/font-awesome/4.6.3/css/font-awesome.min.css&quot;/&gt;\n",
       "    &lt;link rel=&quot;stylesheet&quot; href=&quot;https://cdnjs.cloudflare.com/ajax/libs/Leaflet.awesome-markers/2.0.2/leaflet.awesome-markers.css&quot;/&gt;\n",
       "    &lt;link rel=&quot;stylesheet&quot; href=&quot;https://cdn.jsdelivr.net/gh/python-visualization/folium/folium/templates/leaflet.awesome.rotate.min.css&quot;/&gt;\n",
       "    \n",
       "            &lt;meta name=&quot;viewport&quot; content=&quot;width=device-width,\n",
       "                initial-scale=1.0, maximum-scale=1.0, user-scalable=no&quot; /&gt;\n",
       "            &lt;style&gt;\n",
       "                #map_bc0ebe77833cd6861fd88964ef80ecfb {\n",
       "                    position: relative;\n",
       "                    width: 100.0%;\n",
       "                    height: 100.0%;\n",
       "                    left: 0.0%;\n",
       "                    top: 0.0%;\n",
       "                }\n",
       "            &lt;/style&gt;\n",
       "        \n",
       "&lt;/head&gt;\n",
       "&lt;body&gt;    \n",
       "    \n",
       "            &lt;div class=&quot;folium-map&quot; id=&quot;map_bc0ebe77833cd6861fd88964ef80ecfb&quot; &gt;&lt;/div&gt;\n",
       "        \n",
       "&lt;/body&gt;\n",
       "&lt;script&gt;    \n",
       "    \n",
       "            var map_bc0ebe77833cd6861fd88964ef80ecfb = L.map(\n",
       "                &quot;map_bc0ebe77833cd6861fd88964ef80ecfb&quot;,\n",
       "                {\n",
       "                    center: [23.6345, -102.5528],\n",
       "                    crs: L.CRS.EPSG3857,\n",
       "                    zoom: 5,\n",
       "                    zoomControl: true,\n",
       "                    preferCanvas: false,\n",
       "                }\n",
       "            );\n",
       "\n",
       "            \n",
       "\n",
       "        \n",
       "    \n",
       "            var tile_layer_92888ba9f3aea044ab6067e76a52d64f = L.tileLayer(\n",
       "                &quot;https://mt1.google.com/vt/lyrs=y\\u0026x={x}\\u0026y={y}\\u0026z={z}&quot;,\n",
       "                {&quot;attribution&quot;: &quot;Google&quot;, &quot;detectRetina&quot;: false, &quot;maxNativeZoom&quot;: 18, &quot;maxZoom&quot;: 18, &quot;minZoom&quot;: 0, &quot;noWrap&quot;: false, &quot;opacity&quot;: 1, &quot;subdomains&quot;: &quot;abc&quot;, &quot;tms&quot;: false}\n",
       "            ).addTo(map_bc0ebe77833cd6861fd88964ef80ecfb);\n",
       "        \n",
       "    \n",
       "            var circle_marker_c9d9a65a5cea0f183a8f2006512ecd5e = L.circleMarker(\n",
       "                [19.428469998585854, -99.12765999999948],\n",
       "                {&quot;bubblingMouseEvents&quot;: true, &quot;color&quot;: &quot;red&quot;, &quot;dashArray&quot;: null, &quot;dashOffset&quot;: null, &quot;fill&quot;: true, &quot;fillColor&quot;: &quot;red&quot;, &quot;fillOpacity&quot;: 0.2, &quot;fillRule&quot;: &quot;evenodd&quot;, &quot;lineCap&quot;: &quot;round&quot;, &quot;lineJoin&quot;: &quot;round&quot;, &quot;opacity&quot;: 1.0, &quot;radius&quot;: 5, &quot;stroke&quot;: true, &quot;weight&quot;: 3}\n",
       "            ).addTo(map_bc0ebe77833cd6861fd88964ef80ecfb);\n",
       "        \n",
       "    \n",
       "        var popup_ea54cb02e1e43ab30602257194157fa2 = L.popup({&quot;maxWidth&quot;: &quot;100%&quot;});\n",
       "\n",
       "        \n",
       "            \n",
       "                var html_dfd3d6b2794b943c992c18b4582d45bc = $(`&lt;div id=&quot;html_dfd3d6b2794b943c992c18b4582d45bc&quot; style=&quot;width: 100.0%; height: 100.0%;&quot;&gt;&lt;b&gt;Entidad:&lt;/b&gt; Aguascalientes&lt;/div&gt;`)[0];\n",
       "                popup_ea54cb02e1e43ab30602257194157fa2.setContent(html_dfd3d6b2794b943c992c18b4582d45bc);\n",
       "            \n",
       "        \n",
       "\n",
       "        circle_marker_c9d9a65a5cea0f183a8f2006512ecd5e.bindPopup(popup_ea54cb02e1e43ab30602257194157fa2)\n",
       "        ;\n",
       "\n",
       "        \n",
       "    \n",
       "    \n",
       "            var circle_marker_529d574b950093ad2bd0bbc8c12122b1 = L.circleMarker(\n",
       "                [21.882339998431124, -102.28259000001917],\n",
       "                {&quot;bubblingMouseEvents&quot;: true, &quot;color&quot;: &quot;red&quot;, &quot;dashArray&quot;: null, &quot;dashOffset&quot;: null, &quot;fill&quot;: true, &quot;fillColor&quot;: &quot;red&quot;, &quot;fillOpacity&quot;: 0.2, &quot;fillRule&quot;: &quot;evenodd&quot;, &quot;lineCap&quot;: &quot;round&quot;, &quot;lineJoin&quot;: &quot;round&quot;, &quot;opacity&quot;: 1.0, &quot;radius&quot;: 5, &quot;stroke&quot;: true, &quot;weight&quot;: 3}\n",
       "            ).addTo(map_bc0ebe77833cd6861fd88964ef80ecfb);\n",
       "        \n",
       "    \n",
       "        var popup_4bd58888dd8c4d82cb28f9f65596f2c9 = L.popup({&quot;maxWidth&quot;: &quot;100%&quot;});\n",
       "\n",
       "        \n",
       "            \n",
       "                var html_422d502f4eb54ebcddb2e98539114c54 = $(`&lt;div id=&quot;html_422d502f4eb54ebcddb2e98539114c54&quot; style=&quot;width: 100.0%; height: 100.0%;&quot;&gt;&lt;b&gt;Entidad:&lt;/b&gt; Aguascalientes&lt;/div&gt;`)[0];\n",
       "                popup_4bd58888dd8c4d82cb28f9f65596f2c9.setContent(html_422d502f4eb54ebcddb2e98539114c54);\n",
       "            \n",
       "        \n",
       "\n",
       "        circle_marker_529d574b950093ad2bd0bbc8c12122b1.bindPopup(popup_4bd58888dd8c4d82cb28f9f65596f2c9)\n",
       "        ;\n",
       "\n",
       "        \n",
       "    \n",
       "&lt;/script&gt;\" style=\"position:absolute;width:100%;height:100%;left:0;top:0;border:none !important;\" allowfullscreen webkitallowfullscreen mozallowfullscreen></iframe></div></div>"
      ],
      "text/plain": [
       "<folium.folium.Map at 0x22e36dec790>"
      ]
     },
     "execution_count": 7,
     "metadata": {},
     "output_type": "execute_result"
    }
   ],
   "source": [
    "#Mapa de folium con tiles de google maps\n",
    "\n",
    "m = folium.Map(location=[23.6345, -102.5528], zoom_start=5, tiles='https://mt1.google.com/vt/lyrs=y&x={x}&y={y}&z={z}', attr='Google')\n",
    "\n",
    "#Agregar marcadores\n",
    "\n",
    "for index, row in df.iterrows():\n",
    "    folium.CircleMarker([row['latitud'], row['longitud']],popup='<b>Entidad:</b> '+df.iloc[i]['entidad'], radius=5, color='red', fill_color='red').add_to(m)\n",
    "\n",
    "#Mostrar mapa\n",
    "m"
   ]
  }
 ],
 "metadata": {
  "kernelspec": {
   "display_name": "base",
   "language": "python",
   "name": "python3"
  },
  "language_info": {
   "codemirror_mode": {
    "name": "ipython",
    "version": 3
   },
   "file_extension": ".py",
   "mimetype": "text/x-python",
   "name": "python",
   "nbconvert_exporter": "python",
   "pygments_lexer": "ipython3",
   "version": "3.9.13"
  },
  "orig_nbformat": 4,
  "vscode": {
   "interpreter": {
    "hash": "7f2521f8c852c438ae51a89799ece420e6f028aa659cd11ab73056bc51495ab9"
   }
  }
 },
 "nbformat": 4,
 "nbformat_minor": 2
}
